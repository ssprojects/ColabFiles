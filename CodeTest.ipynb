{
 "cells": [
  {
   "cell_type": "code",
   "execution_count": 25,
   "metadata": {},
   "outputs": [
    {
     "name": "stdout",
     "output_type": "stream",
     "text": [
      "2.07944154168\n",
      "[11  2  3]\n",
      "-3.0\n",
      "[[ 1. -1.  0.]\n",
      " [ 1. -1. -3.]\n",
      " [ 0.  0. -4.]]\n"
     ]
    }
   ],
   "source": [
    "from __future__ import absolute_import, division, print_function\n",
    "import tensorflow as tf\n",
    "\n",
    "import model_only as lib\n",
    "import numpy as np\n",
    "\n",
    "\n",
    "print(np.log(8))\n",
    "# testing batch gather\n",
    "sess = tf.Session()\n",
    "x = tf.constant([[11, 1],[12,2],[13,3]])\n",
    "idx = tf.constant([0,1,1])\n",
    "result = lib.batch_gather(x,idx)\n",
    "expected_result = [11, 2, 3]\n",
    "with sess.as_default():\n",
    "    actual_result = result.eval()\n",
    "    print(actual_result)\n",
    "    # add an assert if expected result does not make actual.\n",
    "\n",
    "\n",
    "    \n",
    "# l = tf.constant([1, -1, 0, 1, -1], dtype=tf.float64)\n",
    "# ys = tf.constant([-1,1], dtype=tf.float64)\n",
    "# eq = tf.map_fn(lambda y: lib.equal_sign(y, l), ys)\n",
    "# expectedV = [[-1,  1,  0, -1,  1], [ 1, -1, -0,  1, -1]]\n",
    "# with sess.as_default():\n",
    "#   actualV = eq.eval()\n",
    "\n",
    "\n",
    "def batch_gather(x,idx):\n",
    "    # x : [numRows, numCols]\n",
    "    # idx = [numRows]\n",
    "    # collects the column of x for each row as specified in the idx. \n",
    "    cat_idx = tf.concat([tf.expand_dims(tf.range(0, tf.shape(x)[0]),1), tf.expand_dims(idx,1)], axis=1)\n",
    "    return tf.gather_nd(x, cat_idx)\n",
    "\n",
    "def getTheta(thetas, y, numYs=3):\n",
    "     if numYs == 2:\n",
    "        return tf.cond(y < 0, lambda: thetas[0], lambda: thetas[1])\n",
    "     return thetas[tf.cast(y, tf.int32)]\n",
    "   #return batch_gather(thetas, y)\n",
    "\n",
    "thetas =  tf.constant([[1, -1, 0], [1, -1, -3], [0, 0, -4]], dtype=tf.float64)\n",
    "ys = tf.constant([0,1,2], dtype=tf.float64)\n",
    "log_pt = tf.map_fn(lambda y: getTheta(thetas, y), ys)\n",
    "proj = tf.reduce_sum(thetas[0]) + tf.reduce_sum(thetas[1])\n",
    "with sess.as_default():\n",
    "  p = proj.eval()\n",
    "  print(p)\n",
    "  vv = log_pt.eval()\n",
    "  print(vv)\n"
   ]
  }
 ],
 "metadata": {
  "kernelspec": {
   "display_name": "Python 3",
   "language": "python",
   "name": "python3"
  },
  "language_info": {
   "codemirror_mode": {
    "name": "ipython",
    "version": 3
   },
   "file_extension": ".py",
   "mimetype": "text/x-python",
   "name": "python",
   "nbconvert_exporter": "python",
   "pygments_lexer": "ipython3",
   "version": "3.6.1"
  }
 },
 "nbformat": 4,
 "nbformat_minor": 2
}
