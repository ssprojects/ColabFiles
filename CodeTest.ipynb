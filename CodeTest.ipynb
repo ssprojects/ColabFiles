{
 "cells": [
  {
   "cell_type": "code",
   "execution_count": 2,
   "metadata": {},
   "outputs": [],
   "source": [
    "from __future__ import absolute_import, division, print_function\n",
    "import tensorflow as tf\n",
    "\n",
    "import model_only as lib\n",
    "import numpy as np\n",
    "\n",
    "\n",
    "# testing batch gather\n",
    "sess = tf.Session()\n",
    "x = tf.constant([[11, 1],[12,2],[13,3]])\n",
    "idx = tf.constant([0,1,1])\n",
    "result = lib.batch_gather(x,idx)\n",
    "expected_result = [11, 2, 3]\n",
    "with sess.as_default():\n",
    "    actual_result = result.eval()\n",
    "    # add an assert if expected result does not make actual.\n",
    "\n",
    "\n",
    "    \n",
    "l = tf.constant([1, -1, 0, 1, -1], dtype=tf.float64)\n",
    "ys = tf.constant([-1,1], dtype=tf.float64)\n",
    "eq = tf.map_fn(lambda y: lib.equal_sign(y, l), ys)\n",
    "expectedV = [[-1,  1,  0, -1,  1], [ 1, -1, -0,  1, -1]]\n",
    "with sess.as_default():\n",
    "  actualV = eq.eval()\n"
   ]
  }
 ],
 "metadata": {
  "kernelspec": {
   "display_name": "Python 3",
   "language": "python",
   "name": "python3"
  },
  "language_info": {
   "codemirror_mode": {
    "name": "ipython",
    "version": 3
   },
   "file_extension": ".py",
   "mimetype": "text/x-python",
   "name": "python",
   "nbconvert_exporter": "python",
   "pygments_lexer": "ipython3",
   "version": "3.6.1"
  }
 },
 "nbformat": 4,
 "nbformat_minor": 2
}
