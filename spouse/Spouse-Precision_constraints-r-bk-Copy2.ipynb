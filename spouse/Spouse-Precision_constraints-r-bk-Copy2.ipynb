{
 "cells": [
  {
   "cell_type": "code",
   "execution_count": 1,
   "metadata": {
    "collapsed": true
   },
   "outputs": [],
   "source": [
    "#call this only once for a kernel startup\n",
    "from __future__ import absolute_import, division, print_function\n",
    "\n",
    "import tensorflow as tf\n",
    "# BATCH_SIZE = 32\n",
    "seed = 12\n",
    "import sys\n",
    "orig_stdout = sys.stdout\n",
    "NoOfClasses = 2\n",
    "dataType = 'cont'\n",
    "sys.stdout = orig_stdout"
   ]
  },
  {
   "cell_type": "code",
   "execution_count": 2,
   "metadata": {},
   "outputs": [
    {
     "name": "stdout",
     "output_type": "stream",
     "text": [
      "{0: 2625, 1: 189}\n",
      "{0: 2484, 1: 218}\n",
      "2814 2702\n"
     ]
    }
   ],
   "source": [
    "import numpy as np\n",
    "sys.path.append(\"../\")\n",
    "import model_only\n",
    "\n",
    "gold_labels_dev = np.load(\"data/true_labels_dev.npy\")\n",
    "gold_labels_test = np.load(\"data/true_labels_test.npy\")\n",
    "\n",
    "unique, counts = np.unique(gold_labels_dev, return_counts=True)\n",
    "print(dict(zip(unique, counts)))\n",
    "\n",
    "unique, counts = np.unique(gold_labels_test, return_counts=True)\n",
    "print(dict(zip(unique, counts)))\n",
    "\n",
    "print(len(gold_labels_dev),len(gold_labels_test))"
   ]
  },
  {
   "cell_type": "code",
   "execution_count": 3,
   "metadata": {
    "collapsed": true
   },
   "outputs": [],
   "source": [
    "import pandas as pd\n",
    "import matplotlib.pyplot as plt\n",
    "from sklearn.metrics import classification_report\n",
    "from sklearn.metrics import confusion_matrix\n",
    "from collections import defaultdict\n",
    "from sklearn.metrics import accuracy_score\n",
    "from sklearn.metrics import precision_recall_fscore_support\n",
    "from sklearn.metrics import precision_recall_curve\n",
    "from sklearn.metrics import average_precision_score\n",
    "from sklearn.metrics import roc_auc_score\n",
    "\n",
    "def draw2DArray(a):\n",
    "    fig = plt.figure(figsize=(6, 3.2))\n",
    "    ax = fig.add_subplot(111)\n",
    "    ax.set_title('colorMap')\n",
    "    plt.imshow(np.array(a))\n",
    "    ax.set_aspect('equal')\n",
    "    cax = fig.add_axes([0.12, 0.1, 0.78, 0.8])\n",
    "    cax.get_xaxis().set_visible(False)\n",
    "    cax.get_yaxis().set_visible(False)\n",
    "    cax.patch.set_alpha(0)\n",
    "    cax.set_frame_on(False)\n",
    "    plt.colorbar(orientation='vertical')\n",
    "    plt.show()\n",
    "    \n",
    "      \n",
    "def report2dict(cr):\n",
    "    # Parse rows\n",
    "    tmp = list()\n",
    "    for row in cr.split(\"\\n\"):\n",
    "        parsed_row = [x for x in row.split(\"  \") if len(x) > 0]\n",
    "        if len(parsed_row) > 0:\n",
    "            tmp.append(parsed_row)\n",
    "    \n",
    "    # Store in dictionary\n",
    "    measures = tmp[0]\n",
    "\n",
    "    D_class_data = defaultdict(dict)\n",
    "    for row in tmp[1:]:\n",
    "        class_label = row[0]\n",
    "        for j, m in enumerate(measures):\n",
    "            D_class_data[class_label][m.strip()] = float(row[j + 1].strip())\n",
    "    return pd.DataFrame(D_class_data).T\n",
    "\n",
    "def predictAndPrint(pl):\n",
    "    print(\"acc\",accuracy_score(gold_labels_dev,pl))\n",
    "    print(precision_recall_fscore_support(gold_labels_test,pl,average='binary'))\n",
    "    print(confusion_matrix(gold_labels_dev,pl))\n",
    "#     draw2DArray(confusion_matrix(gold_labels_dev,pl))\n",
    "#     return report2dict(classification_report(gold_labels_dev, pl))# target_names=class_names))\n",
    "    \n",
    "\n",
    "\n",
    "def drawPRcurve(y_test,y_score,it_no):\n",
    "    \n",
    "    fig = plt.figure()\n",
    "    splt = fig.add_subplot(111)\n",
    "    \n",
    "\n",
    "    precision, recall, _ = precision_recall_curve(y_test, y_score,pos_label=1)\n",
    "\n",
    "    splt.step(recall, precision, color='b', alpha=0.2,\n",
    "             where='post')\n",
    "    splt.fill_between(recall, precision, step='post', alpha=0.2,\n",
    "                     color='b')\n",
    "    average_precision = average_precision_score(y_test, y_score)\n",
    "    plt.xlabel('Recall')\n",
    "    plt.ylabel('Precision')\n",
    "    plt.ylim([0.0, 1.05])\n",
    "    plt.xlim([0.0, 1.05])\n",
    "    plt.title('{0:d} Precision-Recall curve: AP={1:0.2f}'.format(it_no,\n",
    "              average_precision))\n",
    "  "
   ]
  },
  {
   "cell_type": "code",
   "execution_count": 4,
   "metadata": {},
   "outputs": [],
   "source": [
    "if dataType == 'merged':\n",
    "    LF_l = [\n",
    "        1,1,1,1,1,-1,1,-1,-1,-1\n",
    "    ]\n",
    "    dscr = [1, 1, 1, 1, 1, 1, 1, 1, 1, 1, 1, 1, 0, 0, 1, 1, 0, 0, 0, 0]\n",
    "    def merge(a,b):\n",
    "        c = []\n",
    "        for i in range(len(a)):\n",
    "            ci = []\n",
    "            ci_l = a[i,0,:].tolist()+b[i,0,:].tolist()\n",
    "            ci_s = a[i,1,:].tolist()+b[i,1,:].tolist()\n",
    "            ci.append(ci_l)\n",
    "            ci.append(ci_s)\n",
    "            c.append(ci)\n",
    "        return c\n",
    "    import numpy as np\n",
    "    dev_L_S_s = np.load(\"data/dev_L_S_smooth.npy\")\n",
    "    test_L_S_s = np.load(\"data/test_L_S_smooth.npy\")\n",
    "    train_L_S_s = np.load(\"data/train_L_S_smooth.npy\")\n",
    "\n",
    "    dev_L_S_d = np.load(\"data/dev_L_S_discrete.npy\")\n",
    "    test_L_S_d = np.load(\"data/test_L_S_discrete.npy\")\n",
    "    train_L_S_d = np.load(\"data/train_L_S_discrete.npy\")\n",
    "\n",
    "    dev_L_S = np.array(merge(dev_L_S_d,dev_L_S_s))\n",
    "    train_L_S = np.array(merge(train_L_S_d,train_L_S_s))\n",
    "    test_L_S = np.array(merge(test_L_S_d,test_L_S_s))\n",
    "\n",
    "    LF_l = LF_l + LF_l\n",
    "    NoOfLFs= len(LF_l)\n",
    "\n",
    "    print(len(LF_l))\n",
    "\n",
    "    print(dev_L_S.shape, test_L_S.shape, train_L_S.shape)\n",
    "    print(train_L_S[100])"
   ]
  },
  {
   "cell_type": "code",
   "execution_count": 5,
   "metadata": {},
   "outputs": [],
   "source": [
    "if dataType == 'discrete':\n",
    "    LF_l = [\n",
    "        1,1,1,1,1,-1,1,-1,-1,-1\n",
    "    ]\n",
    "    NoOfLFs= len(LF_l)\n",
    "    dscr = np.ones(10)\n",
    "\n",
    "    dev_L_S = np.load(\"data/dev_L_S_discrete.npy\")\n",
    "    test_L_S = np.load(\"data/test_L_S_discrete.npy\")\n",
    "    train_L_S = np.load(\"data/train_L_S_discrete.npy\")\n",
    "\n",
    "    print(len(gold_labels_dev),len(gold_labels_test))\n",
    "    print(test_L_S.shape,dev_L_S.shape,train_L_S.shape)\n",
    "    print(train_L_S[100])"
   ]
  },
  {
   "cell_type": "code",
   "execution_count": 6,
   "metadata": {},
   "outputs": [
    {
     "name": "stdout",
     "output_type": "stream",
     "text": [
      "2814 2702\n",
      "(2702, 2, 10) (2814, 2, 10) (22276, 2, 10)\n",
      "[[[ 0.          0.          1.          1.          0.         -1.          0.\n",
      "   -1.         -1.         -1.        ]\n",
      "  [ 0.5         1.          0.65635462  0.50981945  0.5         0.875       0.5\n",
      "    0.67617417  0.50998056  0.60042526]]\n",
      "\n",
      " [[ 0.          0.          1.          1.          0.          0.          0.\n",
      "   -1.         -1.         -1.        ]\n",
      "  [ 0.5         1.          0.83758436  0.63201319  0.5         0.5         0.5\n",
      "    1.          0.66692357  0.72379396]]\n",
      "\n",
      " [[ 0.          0.          1.          1.          0.          0.          0.\n",
      "   -1.         -1.         -1.        ]\n",
      "  [ 0.5         1.          0.83758436  0.63201319  0.5         0.5         0.5\n",
      "    1.          0.66692357  0.72379396]]\n",
      "\n",
      " [[ 0.          0.          1.          1.          0.          0.          0.\n",
      "   -1.         -1.         -1.        ]\n",
      "  [ 0.5         1.          0.57391918  0.55458233  0.5         0.5         0.5\n",
      "    0.61241605  0.55846008  0.57767921]]\n",
      "\n",
      " [[ 0.          0.          1.          1.          0.          0.          1.\n",
      "   -1.         -1.         -1.        ]\n",
      "  [ 0.5         1.          1.          1.          0.5         0.5         0.5\n",
      "    0.87555448  0.87555448  0.81894806]]\n",
      "\n",
      " [[ 0.          0.          1.          1.          0.         -1.          0.\n",
      "   -1.         -1.         -1.        ]\n",
      "  [ 0.5         1.          0.8671818   0.8671818   0.5         0.875       0.5\n",
      "    0.86740494  1.          0.72960659]]\n",
      "\n",
      " [[ 0.          0.          1.          1.          0.         -1.          1.\n",
      "   -1.         -1.         -1.        ]\n",
      "  [ 0.5         1.          0.92154371  0.65286646  0.5         0.875       0.5\n",
      "    1.          0.66446282  0.76929697]]\n",
      "\n",
      " [[ 0.          0.          1.          1.          0.         -1.          1.\n",
      "   -1.         -1.         -1.        ]\n",
      "  [ 0.5         1.          0.92154371  0.92154371  0.5         0.875\n",
      "    0.6118784   1.          1.          0.76929697]]\n",
      "\n",
      " [[ 0.          0.          1.          1.          0.         -1.          0.\n",
      "   -1.         -1.         -1.        ]\n",
      "  [ 0.5         1.          0.70692328  0.92154371  0.5         0.875       0.5\n",
      "    0.71244269  1.          0.65058385]]\n",
      "\n",
      " [[ 0.          0.          1.          1.          0.          0.          1.\n",
      "   -1.         -1.         -1.        ]\n",
      "  [ 0.5         1.          0.5         0.61508225  0.5         0.5\n",
      "    0.55838856  0.5         0.58785498  0.5       ]]]\n"
     ]
    }
   ],
   "source": [
    "if dataType == 'cont':\n",
    "    LF_l = [\n",
    "        1,1,1,1,1,-1,1,-1,-1,-1\n",
    "    ]\n",
    "    dscr = np.array([1,1,0,0,1,1,0,0,0,0])\n",
    "    NoOfLFs= len(LF_l)\n",
    "\n",
    "    dev_L_S = np.load(\"data/dev_L_S_smooth.npy\")\n",
    "    test_L_S = np.load(\"data/test_L_S_smooth.npy\")\n",
    "    train_L_S = np.load(\"data/train_L_S_smooth.npy\")\n",
    "\n",
    "    print(len(gold_labels_dev),len(gold_labels_test))\n",
    "    print(test_L_S.shape,dev_L_S.shape,train_L_S.shape)\n",
    "    print(train_L_S[0:10])"
   ]
  },
  {
   "cell_type": "code",
   "execution_count": null,
   "metadata": {},
   "outputs": [],
   "source": []
  },
  {
   "cell_type": "code",
   "execution_count": 7,
   "metadata": {},
   "outputs": [
    {
     "name": "stdout",
     "output_type": "stream",
     "text": [
      "0 \t 2 {0.0: 22243, 1.0: 33}\n",
      "1 \t 2 {0.0: 22096, 1.0: 180}\n",
      "2 \t 2473 \n",
      "3 \t 3582 \n",
      "4 \t 2 {0.0: 21904, 1.0: 372}\n",
      "5 \t 2 {-0.875: 13427, 0.0: 8849}\n",
      "6 \t 1751 \n",
      "7 \t 2477 \n",
      "8 \t 3581 \n",
      "9 \t 2689 \n",
      "[1, 1, 0, 0, 1, 1, 0, 0, 0, 0]10\n",
      "test\n"
     ]
    }
   ],
   "source": [
    "\n",
    "discr = []\n",
    "for j in range(len(LF_l)):\n",
    "    temp = np.array(train_L_S[:,0,j]*np.array(train_L_S[:,1,j]))\n",
    "    unique, counts = np.unique(temp, return_counts=True)\n",
    "    temp_d = dict(zip(unique, counts))\n",
    "    print(j, '\\t', len(temp_d), temp_d if len(temp_d)==2 else '')\n",
    "    discr.append(int(not(len(temp_d)-2)))\n",
    "sys.stdout.write('[')\n",
    "for x in range(len(discr)-1):\n",
    "    sys.stdout.write(str(discr[x]) + ', ')\n",
    "sys.stdout.write(str(discr[-1])+']')\n",
    "\n",
    "print(len(LF_l))\n",
    "\n",
    "sys.stdout = orig_stdout\n",
    "print('test')"
   ]
  },
  {
   "cell_type": "code",
   "execution_count": null,
   "metadata": {},
   "outputs": [],
   "source": []
  },
  {
   "cell_type": "code",
   "execution_count": 8,
   "metadata": {
    "collapsed": true
   },
   "outputs": [],
   "source": [
    "#added new model\n",
    "def train2(lr,ep,th,af,batch_size=32,LF_acc=None,LF_rec=None,pcl=np.array([-1,1],dtype=np.float64),norm=True,\\\n",
    "          smooth=True,penalty=0,p3k=3,alp=1,Gamma=1.0,debug=True, \\\n",
    "           r1=1.0, r2=1.0, a_pr=None, n_pr=None, user_a = None, isdiscrete = None, alpha_max = None, r_pr=None):\n",
    "    \n",
    "    ## lr : learning rate\n",
    "    ## ep : no of epochs\n",
    "    ## th : thetas initializer\n",
    "    ## af : alphas initializer\n",
    "    ## penalty : {1,2,3} use one of the three penalties, 0: no-penalty\n",
    "    ## p3k : parameter for penalty-3 \n",
    "    ## smooth : flag if smooth lfs are used \n",
    "    ## make sure smooth/discrete LF data is loaded into train_L_S and test_L_S\n",
    "    ## pcl : all possible class labels  = [-1,1] for binary, \n",
    "    ##       np.arange(0,NoOfClasses) for multiclass\n",
    "    ## alp : alpha parameter (to set a max value for alpha)\n",
    "    ## norm : use normalization or not\n",
    "    ## Gamma : penalty tuning parameter\n",
    "    \n",
    "    BATCH_SIZE = batch_size\n",
    "    tf.reset_default_graph()\n",
    "\n",
    "    seed = 12\n",
    "    \n",
    "    LF_k = []\n",
    "    if(len(pcl)==2):\n",
    "        for i in range(len(LF_l)):\n",
    "            LF_k.append(int((LF_l[i]+1)/2))\n",
    "    with tf.Graph().as_default():\n",
    "        xtra = tf.Variable(0, trainable=False)\n",
    "        gammaR = tf.constant(0, dtype=tf.float64)\n",
    "\n",
    "        train_dataset = tf.data.Dataset.from_tensor_slices(train_L_S).batch(BATCH_SIZE)\n",
    "        dev_dataset = tf.data.Dataset.from_tensor_slices(dev_L_S).batch(len(dev_L_S))\n",
    "        test_dataset = tf.data.Dataset.from_tensor_slices(test_L_S).batch(len(test_L_S))\n",
    "\n",
    "        iterator = tf.data.Iterator.from_structure(train_dataset.output_types, train_dataset.output_shapes)\n",
    "        next_element = iterator.get_next()\n",
    "\n",
    "        train_init_op = iterator.make_initializer(train_dataset)\n",
    "        dev_init_op = iterator.make_initializer(dev_dataset)\n",
    "        test_init_op = iterator.make_initializer(test_dataset)\n",
    "\n",
    "        next_element = iterator.get_next()\n",
    "\n",
    "        alphas = tf.get_variable('alphas', [NoOfLFs], initializer=af, dtype=tf.float64)\n",
    "        if(penalty in [103, 113]):\n",
    "            alphas = tf.stop_gradient(alphas*0)\n",
    "            \n",
    "        thetas = tf.get_variable('thetas', [1,NoOfLFs], initializer=th, dtype=tf.float64)\n",
    "        \n",
    "        LF_label = tf.convert_to_tensor(LF_k, dtype=tf.int32)\n",
    "        k = tf.convert_to_tensor(LF_l, dtype=tf.float64)\n",
    "        g = tf.convert_to_tensor(Gamma, dtype=tf.float64)\n",
    "        \n",
    "        if(penalty in [4,5,7,8,9,10,11, 44, 42, 41]):\n",
    "            LF_a = tf.convert_to_tensor(LF_acc, dtype=tf.float64)\n",
    "        \n",
    "        if(penalty in [6,7,11,12,15]):\n",
    "            LF_r = tf.convert_to_tensor(LF_rec, dtype=tf.float64)\n",
    "        \n",
    "        l,s =  tf.unstack(next_element,axis=1)\n",
    "\n",
    "        if(smooth and penalty < 100):\n",
    "            s_ = tf.maximum(tf.subtract(s,tf.minimum(alphas,alp)), 0)\n",
    "            if(debug):\n",
    "                print(\"s_\",s_)\n",
    "\n",
    "        def iskequalsy(v,s):\n",
    "            out = tf.where(tf.equal(v,s),tf.ones_like(v),-tf.ones_like(v))\n",
    "            if(debug):\n",
    "                print(\"out\",out)\n",
    "            return out\n",
    "#MAP\n",
    "        if(penalty < 100):\n",
    "            if(smooth):\n",
    "                pout = tf.map_fn(lambda c: l*c*s_ ,pcl,name=\"pout\")\n",
    "            else:\n",
    "                pout = tf.map_fn(lambda c: l*c ,pcl,name=\"pout\")\n",
    "\n",
    "            t =  tf.squeeze(thetas)                \n",
    "                \n",
    "            def ints(y): # called for y=1 and y=-1\n",
    "                ky = iskequalsy(k,y)  # ky = 1 if k==y else -1\n",
    "                if(debug):\n",
    "                    print(\"ky\",ky)\n",
    "                out1 = alphas+((tf.exp((t*ky*(1-alphas)))-1)/(t*ky))\n",
    "                if(debug):\n",
    "                    print(\"intsy\",out1)\n",
    "                return out1                \n",
    "                \n",
    "            if(smooth):\n",
    "                #smooth normalizer\n",
    "                zy = tf.map_fn(lambda y: tf.reduce_prod(1+ints(y),axis=0),\\\n",
    "                               pcl,name=\"zy\")\n",
    "            else:\n",
    "                #discrete normalizer\n",
    "                zy = tf.map_fn(lambda y: tf.reduce_prod(1+tf.exp(t*iskequalsy(k,y)),axis=0),\\\n",
    "                               pcl,name=\"zy\")            \n",
    "#new model\n",
    "\n",
    "        if(penalty > 200):\n",
    "\n",
    "#             z_y_new = [tf.reduce_prod(1 + 1/(-1*k*thetas) * (tf.exp(-1*k*thetas) - tf.exp(-1*k*thetas*user_alphas)) ), \\\n",
    "#                    tf.reduce_prod(1 + 1/(1*k*thetas) * (tf.exp(1*k*thetas) - tf.exp(1*k*thetas*user_alphas)) ) ]\n",
    "            numbins = tf.constant(10, dtype=tf.float64)\n",
    "            #TODO: 2 binned integration over the s values to allow stable gradients.\n",
    "            sbin_widths = (1-user_alphas)/numbins\n",
    "            sbins = tf.einsum('i,j->ij', sbin_widths, tf.cast(tf.range(0,numbins+1), dtype=tf.float64))+tf.expand_dims(user_alphas,1)\n",
    "            sbins = tf.transpose(sbins)\n",
    "            \n",
    "            def pot(s):\n",
    "                if(penalty%10 == 1):\n",
    "                    return thetas*s-alphas\n",
    "                elif(penalty%10 == 2):\n",
    "                    return thetas*tf.clip_by_value(s-alphas,0,1)\n",
    "                elif(penalty%10 == 3):\n",
    "                    return thetas*s\n",
    "                return 0\n",
    "                                       \n",
    "            # over the y-s it is okay to use a map function, but not over the LFs.\n",
    "            z_y_new = tf.map_fn(lambda y: tf.reduce_prod(1 + tf.reduce_sum(tf.exp(-y*k*pot(sbins)), axis=0)), tf.constant([1,-1], dtype=tf.float64))\n",
    "#             z_y_new = tf.reduce_sum(tf.exp(-1*k*thetas*sbins), axis=0)*sbin_widths/(1-user_alphas)\n",
    "# *sbin_widths\n",
    "\n",
    "            Z_new = tf.reduce_sum(z_y_new)\n",
    "            print(\"new z \", Z_new)\n",
    "\n",
    "#p theta without exp [y x i]\n",
    "            # snap s_ to the nearest bin. \n",
    "            s_ = tf.round((s_-user_alphas)*numbins/(1-user_alphas))*sbin_widths + user_alphas\n",
    "            logp_theta_new_t = tf.map_fn(lambda y:  tf.reduce_sum(-y*l*pot(s_), axis=1), tf.constant([1,-1], dtype=tf.float64))\n",
    "\n",
    "\n",
    "            loss_new_t = tf.reduce_logsumexp(logp_theta_new_t, axis=0) - tf.log(Z_new)\n",
    "            loss_new = tf.negative(tf.reduce_sum(loss_new_t))\n",
    "        \n",
    "#marginals as softmax\n",
    "\n",
    "            marginals_new = tf.expand_dims(tf.nn.softmax(logp_theta_new_t, axis=0), 2)\n",
    "\n",
    "        if(penalty < 100):\n",
    "            \n",
    "            if(debug):\n",
    "                print(\"pout\",pout)    \n",
    "    #MAP\n",
    "            t_pout = tf.map_fn(lambda x: tf.matmul(x,thetas,transpose_b=True),pout,\\\n",
    "                               name=\"t_pout\")\n",
    "\n",
    "            if(debug):\n",
    "                print(\"t_pout\",t_pout)\n",
    "\n",
    "        t =  tf.squeeze(thetas)\n",
    "        if(debug):\n",
    "            print(\"t\",t)\n",
    "\n",
    "        if(penalty < 100):\n",
    "            marginals = tf.nn.softmax(t_pout,axis=0)\n",
    "#         else:\n",
    "#             marginals = marginals_new\n",
    "        \n",
    "            if(debug):\n",
    "                print(\"zy\",zy)\n",
    "            logz = tf.log(tf.reduce_sum(zy,axis=0),name=\"logz\")\n",
    "            if(debug):\n",
    "                print(\"logz\",logz)\n",
    "    ##         tf.summary.scalar('logz', logz)\n",
    "            lsp = tf.reduce_logsumexp(t_pout,axis=0)\n",
    "            if(debug):\n",
    "                print(\"lsp\",lsp)\n",
    "##         tf.summary.scalar('lsp', tf.reduce_sum(lsp))\n",
    "        \n",
    "    \n",
    "        if(penalty == 20 or penalty > 100):\n",
    "            a_t = tf.convert_to_tensor(a_pr, dtype=tf.float64)\n",
    "            n_t = tf.convert_to_tensor(n_pr, dtype=tf.float64)\n",
    "            r_t = tf.convert_to_tensor(r_pr, dtype=tf.float64)\n",
    "        def get_loss_20():\n",
    "#NEW MODEL\n",
    "\n",
    "            # unnormalized_marginals [numY]\n",
    "            unnormalized_marginals = [tf.reduce_prod(tf.exp(-thetas*LF_l) + 1), \\\n",
    "                                      tf.reduce_prod(tf.exp(thetas*LF_l) + 1)]\n",
    "            # same for continuous, just use the new formulation with sbins for summation, no intergration\n",
    "            Z = tf.reduce_sum(unnormalized_marginals)\n",
    "\n",
    "            # unnormalized_marginals_tiled: [numLF, numY]\n",
    "            # per-LF-marginals: [numLFs]\n",
    "            per_LF_marginals = tf.gather(unnormalized_marginals, LF_label)\n",
    "\n",
    "#             return per_LF_marginals\n",
    "            # PÎ¸(kj=y): [numLFs]  (computing Eq 14)                       \n",
    "            per_LF_agreement_prob = tf.exp(thetas)/(1 + tf.exp(thetas))*per_LF_marginals/Z\n",
    "\n",
    "#             p_thetas =  tf.expand_dims(prod__,1) * exp_terms/(1+exp_terms) / Z\n",
    "            p_thetas = per_LF_agreement_prob\n",
    "\n",
    "            ptheta_terms = a_t * n_t * tf.log(p_thetas) + (1-a_t) * n_t * tf.log(1-p_thetas)\n",
    "                                                   \n",
    "#-------------------------------\n",
    "\n",
    "            return tf.negative(tf.reduce_sum(ptheta_terms)) # add other loss component\n",
    "\n",
    "        loss_recall = 0\n",
    "        if(penalty > 100):\n",
    "            numYs=2\n",
    "            per_lf_prob, loss_new, marginals, per_lf_recall, pots = model_only.model(numYs, k, l, s, thetas, alphas, isdiscrete, user_a, penalty,alpha_max)\n",
    "            loss_precision = model_only.precision_loss(a_t, n_t, per_lf_prob)\n",
    "            if r_t is not None and (penalty/10) % 10 == 3:\n",
    "                loss_recall = model_only.recall_loss(r_t, n_t, per_lf_recall, isdiscrete)\n",
    "\n",
    "#adding ne      \n",
    "           \n",
    "        prec_loss = tf.constant(0)\n",
    "    \n",
    "        if(not norm):\n",
    "            print(\"unnormlized loss\")\n",
    "            loss = tf.negative(tf.reduce_sum(lsp  ))\n",
    "        elif(penalty == 1):\n",
    "            print(\"penalty1\")\n",
    "            loss = tf.negative(tf.reduce_sum(lsp  - logz  )) \\\n",
    "                      +(g*tf.reduce_sum(tf.maximum(tf.zeros_like(thetas),-thetas)))\n",
    "        elif(penalty == 2):\n",
    "            print(\"penalty2\")\n",
    "            loss = tf.negative(tf.reduce_sum(lsp  - logz  )) \\\n",
    "                     -(g*tf.minimum( tf.reduce_min(thetas),0.0))\n",
    "            prec_loss = tf.constant(0)\n",
    "        elif(penalty == 3):\n",
    "            print(\"penalty3\")\n",
    "            loss = tf.negative(tf.reduce_sum(lsp  - logz  )) \\\n",
    "                     +(g*tf.reduce_sum(tf.log(1+tf.exp(-thetas-p3k))))\n",
    "        \n",
    "\n",
    "        elif(penalty == 4):\n",
    "            print(\"precision penalty\")\n",
    "            prec_loss = tf.reduce_sum(tf.map_fn(lambda j: softplus_p(j),np.arange(NoOfLFs),\\\n",
    "                                             dtype=tf.float64))\n",
    "            loss = tf.negative(tf.reduce_sum(lsp  - logz  )) \\\n",
    "                + (g* prec_loss)\n",
    "        \n",
    "        elif(penalty == 41):\n",
    "            print(\"precision penalty\")\n",
    "            prec_loss, xtra = sfp()\n",
    "            loss = tf.negative(tf.reduce_sum(lsp  - logz  )) \\\n",
    "                + (g * prec_loss)\n",
    "#                 + (g*tf.reduce_sum(tf.map_fn(lambda j: softplus_p(j),np.arange(NoOfLFs),\\\n",
    "#                                              dtype=tf.float64)))\n",
    "        \n",
    "        elif(penalty == 42):\n",
    "            print(\"precision penalty\")\n",
    "            temp_prloss, _ = sfpp()\n",
    "            temp_uloss = tf.negative(tf.reduce_sum(lsp  - logz  ))\n",
    "            r21 = tf.gradients(temp_uloss, thetas)\n",
    "            r22 = tf.gradients(temp_prloss, thetas)\n",
    "            xtra_tfg = tf.reduce_sum(tf.abs(r21[0][0]))/tf.reduce_sum(tf.abs(r22[0][0]))\n",
    "#             gammaR = temp_uloss/temp_prloss\n",
    "#             prec_loss, xtra = sfpp()\n",
    "            prec_loss = tf.reduce_sum(temp_prloss)\n",
    "\n",
    "            grad_ratio = 1\n",
    "\n",
    "            xtra = [xtra_tfg]\n",
    "\n",
    "            loss = temp_uloss \\\n",
    "                + (g * prec_loss)\n",
    "\n",
    "        elif(penalty == 44):\n",
    "            print(\"precision penalty\")\n",
    "            loss = tf.negative(tf.reduce_sum(lsp  - logz  )) \\\n",
    "                + (g*tf.reduce_sum(tf.map_fn(lambda j: softplus_pp(j),np.arange(NoOfLFs),\\\n",
    "                                             dtype=tf.float64)))\n",
    "                \n",
    "                \n",
    "        elif(penalty == 5):\n",
    "            print(\"precision log(softplus) penalty\")\n",
    "            loss = tf.negative(tf.reduce_sum(lsp  - logz  )) \\\n",
    "                + (g*tf.reduce_sum(tf.map_fn(lambda j: tf.log(softplus_p(j)),np.arange(NoOfLFs),\\\n",
    "                                             dtype=tf.float64)))\n",
    "        elif(penalty == 6):\n",
    "            print(\"recall penalty\")\n",
    "            loss = tf.negative(tf.reduce_sum(lsp  - logz  )) \\\n",
    "                + (g*tf.reduce_sum(tf.map_fn(lambda j: softplus_r(j),np.arange(NoOfLFs),\\\n",
    "                                             dtype=tf.float64)))\n",
    "        elif(penalty == 7):\n",
    "            print(\"precision and recall penalty\")\n",
    "            loss = tf.negative(tf.reduce_sum(lsp  - logz  )) \\\n",
    "                + (g*tf.reduce_sum(tf.map_fn(lambda j: softplus_p(j),np.arange(NoOfLFs),\\\n",
    "                                             dtype=tf.float64))) \\\n",
    "                + (g*tf.reduce_sum(tf.map_fn(lambda j: softplus_r(j),np.arange(NoOfLFs),\\\n",
    "                                             dtype=tf.float64)))\n",
    "        elif(penalty == 8):\n",
    "            print(\"precision and sign 1 penalty\")\n",
    "            loss = tf.negative(tf.reduce_sum(lsp  - logz  )) \\\n",
    "                + (g*tf.reduce_sum(tf.map_fn(lambda j: softplus_p(j),np.arange(NoOfLFs),\\\n",
    "                                             dtype=tf.float64))) \\\n",
    "                + (g*tf.reduce_sum(tf.maximum(tf.zeros_like(thetas),-thetas)))\n",
    "        elif(penalty == 9):\n",
    "            print(\"precision and sign 2 penalty\")\n",
    "            loss = tf.negative(tf.reduce_sum(lsp  - logz  )) \\\n",
    "                + (g*tf.reduce_sum(tf.map_fn(lambda j: softplus_p(j),np.arange(NoOfLFs),\\\n",
    "                                             dtype=tf.float64))) \\\n",
    "                - (g*tf.minimum( tf.reduce_min(thetas),0.0))\n",
    "        elif(penalty == 10):\n",
    "            print(\"precision and sign 3 penalty\")\n",
    "            loss = tf.negative(tf.reduce_sum(lsp  - logz  )) \\\n",
    "                + (g*tf.reduce_sum(tf.map_fn(lambda j: softplus_p(j),np.arange(NoOfLFs),\\\n",
    "                                             dtype=tf.float64))) \\\n",
    "                + (g*tf.reduce_sum(tf.log(1+tf.exp(-thetas-p3k))))\n",
    "        elif(penalty == 11):\n",
    "            print(\"precision and recall and sign 2 penalty\")\n",
    "            loss = tf.negative(tf.reduce_sum(lsp  - logz  )) \\\n",
    "                + (g*tf.reduce_sum(tf.map_fn(lambda j: softplus_p(j),np.arange(NoOfLFs),\\\n",
    "                                             dtype=tf.float64))) \\\n",
    "                + (g*tf.reduce_sum(tf.map_fn(lambda j: softplus_r(j),np.arange(NoOfLFs),\\\n",
    "                                             dtype=tf.float64))) \\\n",
    "                  - (g*tf.minimum( tf.reduce_min(thetas),0.0))\n",
    "        elif(penalty == 12):\n",
    "            print(\"recall and sign 2 penalty\")\n",
    "            loss = tf.negative(tf.reduce_sum(lsp  - logz  )) \\\n",
    "                + (g*tf.reduce_sum(tf.map_fn(lambda j: softplus_r(j),np.arange(NoOfLFs),\\\n",
    "                                             dtype=tf.float64))) \\\n",
    "                  - (g*tf.minimum( tf.reduce_min(thetas),0.0))\n",
    "        elif(penalty == 15):\n",
    "            print(\"equation 15 and sign 2 penalty\")\n",
    "            loss = tf.negative(tf.reduce_sum(lsp  - logz  )) \\\n",
    "                + (g*tf.reduce_sum(tf.map_fn(lambda j: softplus_r15(j),np.arange(NoOfLFs),\\\n",
    "                                             dtype=tf.float64))) \\\n",
    "                  - (g*tf.minimum( tf.reduce_min(thetas),0.0))\n",
    "\n",
    "\n",
    "\n",
    "                    \n",
    "        elif(penalty == 20):\n",
    "            print(\"new model\")\n",
    "            prec_loss = get_loss_20()\n",
    "            loss =  tf.negative(tf.reduce_sum(lsp  - logz  )) + prec_loss\n",
    "                  \n",
    "        elif(penalty >100 and penalty<111):\n",
    "            sys.stdout = stdout_saved\n",
    "            print(\"new model smooth \", penalty)\n",
    "            sys.stdout = open(\"trash\", \"w\")            \n",
    "            print(\"new model smooth \", penalty)\n",
    "            loss = loss_new\n",
    "#             loss, _ = smooth_new_prec()\n",
    "            \n",
    "                    \n",
    "        elif(penalty >110):\n",
    "            sys.stdout = stdout_saved\n",
    "            print(\"new model smooth with constraints \", penalty)\n",
    "            sys.stdout = open(\"trash\", \"w\")            \n",
    "            print(\"new model smooth with constraints \", penalty)\n",
    "            loss = loss_new + loss_precision + loss_recall\n",
    "#             loss_un, loss_pr = smooth_new_prec()\n",
    "#             loss = loss_un + loss_pr\n",
    "\n",
    "        else:\n",
    "            print(\"normalized loss\")\n",
    "            loss = tf.negative(tf.reduce_sum(lsp  - logz  ))\n",
    "            prec_loss = tf.constant(0)\n",
    "       \n",
    "        if(debug):\n",
    "            print(\"loss\",loss)\n",
    "\n",
    "#         marginals = tf.nn.softmax(t_pout,axis=0)\n",
    "\n",
    "        if(debug):\n",
    "            print(\"marginals\",marginals)\n",
    "        predict = tf.argmax(marginals,axis=0)\n",
    "\n",
    "\n",
    "        train_step = tf.train.AdamOptimizer(lr).minimize(loss)#, var_list=[thetas, alphas]) \n",
    "\n",
    "\n",
    "        init_g = tf.global_variables_initializer()\n",
    "        init_l = tf.local_variables_initializer()\n",
    "        \n",
    "        dev_high = np.zeros(3)\n",
    "        test_high = np.zeros(3)\n",
    "        \n",
    "        with tf.Session() as sess:\n",
    "            sess.run(init_g)\n",
    "            sess.run(init_l)\n",
    "\n",
    "            flg = False\n",
    "            # Initialize an iterator over the training dataset.\n",
    "            for en in range(ep):\n",
    "                sess.run(train_init_op)\n",
    "#                 temprun = sess.run(next_element2)\n",
    "#                 print('len next ',len(temprun), len(temprun[0]))\n",
    "#                 print(temprun[0])\n",
    "                tl = 0\n",
    "                pll = 0\n",
    "                unl = 0\n",
    "                try:\n",
    "                    it = 0\n",
    "                    \n",
    "                    grad_sum = 0.0\n",
    "                    while True:\n",
    "#                         print(en, it)\n",
    "\n",
    "                        _,ls,ploss,xpp,t,al = sess.run([train_step,loss,prec_loss,xtra,thetas,alphas])\n",
    "                        if(penalty == 42):\n",
    "                            un_loss = sess.run(temp_uloss)\n",
    "\n",
    "                        tl = tl + ls\n",
    "                        pll = pll + ploss\n",
    "                        if(penalty == 42):\n",
    "                            unl = unl + un_loss\n",
    "                        it = it + 1\n",
    "                        # potsv, sv, lv, kv = sess.run([pots,s,l,k])\n",
    "                        # print(t,al)\n",
    "                        # print(sv,lv,kv)\n",
    "                        # print(potsv)\n",
    "#                         newptheta = sess.run(sbins)\n",
    "#                         ztemp = sess.run(xyz)\n",
    "                \n",
    "#                         print(it*BATCH_SIZE)\n",
    "                \n",
    "                except tf.errors.OutOfRangeError:\n",
    "                    pass\n",
    "                opstring = \"\"\n",
    "                print(en,\"loss\",tl)\n",
    "                opstring = opstring + str(en) + \",\" + str(tl) + \",\"\n",
    "#                 print('temp__', temp__)\n",
    "                print(\"un loss\", unl)\n",
    "                print(\"ploss\", pll)\n",
    "                print(\"ratio\", unl/pll)\n",
    "                print(\"extra\", xpp)\n",
    "#                 dloss = sess.run(dev_loss)\n",
    "#                 print(\"dloss\", dloss)\n",
    "#                 print(\"expected ratio\", xpp/(xpp+1))\n",
    "                print(\"dev set\")\n",
    "                sess.run(dev_init_op)\n",
    "##                 sm,a,t,m,pl = sess.run([summary_merged,alphas,thetas,marginals,predict])\n",
    "#                 a,t,m,pl = sess.run([alphas,thetas,marginals,predict])\n",
    "                a,t,m,pl,ddloss = sess.run([alphas,thetas,marginals,predict,loss])\n",
    "##                 test_writer.add_summary(sm, en)\n",
    "                print('init dev loss', ddloss)\n",
    "                opstring = opstring + str(ddloss) + \",\"\n",
    "                print(a)\n",
    "                print(t)\n",
    "                unique, counts = np.unique(pl, return_counts=True)\n",
    "                print(dict(zip(unique, counts)))\n",
    "                print(\"acc\",accuracy_score(gold_labels_dev,pl))\n",
    "                dev_results = precision_recall_fscore_support(np.array(gold_labels_dev),np.array(pl),average=\"binary\")\n",
    "                print('devresults ', dev_results)\n",
    "                roc_dev = roc_auc_score(np.array(gold_labels_dev), np.array(m[1,:,0]))\n",
    "                print('roc score', roc_dev)\n",
    "                opstring = str(en) + ',' #do not print losses\n",
    "                opstring = opstring + str(dev_results[2]) + \",\" + str(roc_dev) + \",\"\n",
    "#                 if(dev_results[2]>dev_high[2]):\n",
    "                dev_high = np.array(dev_results)\n",
    "#                 dev_high = max(dev_high, dev_results[2])\n",
    "                print()\n",
    "                print(\"test set\")\n",
    "                sess.run(test_init_op)\n",
    "                a,t,m,pl = sess.run([alphas,thetas,marginals,predict])\n",
    "                unique, counts = np.unique(pl, return_counts=True)\n",
    "                print(dict(zip(unique, counts)))\n",
    "                print(\"acc\",accuracy_score(gold_labels_test,pl))\n",
    "                test_results = precision_recall_fscore_support(np.array(gold_labels_test),np.array(pl),average=\"binary\")\n",
    "                print('testresults ', test_results)\n",
    "                roc_test = roc_auc_score(np.array(gold_labels_test), np.array(m[1,:,0]))\n",
    "                print('roc score', roc_test)\n",
    "                opstring = opstring + str(test_results[2]) + \",\" + str(roc_test)\n",
    "#                 if(test_results[2]>test_high[2]):\n",
    "                test_high = np.array(test_results)\n",
    "                print()\n",
    "        \n",
    "                sys.stdout = stdout_saved\n",
    "                print(opstring)\n",
    "                print(a, t)\n",
    "# #                 newptheta = sess.run(marginals)\n",
    "#                 print(\"new z \", ztemp)\n",
    "#                 print(\"new z shape \", np.array(ztemp).shape)\n",
    "#                 print('shape ',np.array(newptheta).shape)\n",
    "                sys.stdout = open(\"trash\", \"w\")\n",
    "                \n",
    "\n",
    "    return pl, m, dev_high, opstring#test_high"
   ]
  },
  {
   "cell_type": "code",
   "execution_count": 9,
   "metadata": {
    "scrolled": false
   },
   "outputs": [
    {
     "name": "stdout",
     "output_type": "stream",
     "text": [
      "============ 131\n",
      "new model smooth with constraints  131\n"
     ]
    },
    {
     "name": "stderr",
     "output_type": "stream",
     "text": [
      "/home/sunita/anaconda3/lib/python3.6/site-packages/ipykernel_launcher.py:384: RuntimeWarning: invalid value encountered in long_scalars\n"
     ]
    },
    {
     "name": "stdout",
     "output_type": "stream",
     "text": [
      "0,0.326605504587,0.748902998236,0.328358208955,0.767185214732\n",
      "[ 0.11754463 -0.18578547 -0.02043141 -0.02937141  0.10637787  0.04133855\n",
      "  0.13806831  0.04283397  0.15420355  0.08727341] [[ 1.03113239  1.03109858  1.02985888  1.02985021  1.03113376  0.96902688\n",
      "   1.03115479  0.98981905  0.99324247  0.97747589]]\n"
     ]
    },
    {
     "name": "stderr",
     "output_type": "stream",
     "text": [
      "/home/sunita/anaconda3/lib/python3.6/site-packages/ipykernel_launcher.py:384: RuntimeWarning: invalid value encountered in long_scalars\n"
     ]
    },
    {
     "name": "stdout",
     "output_type": "stream",
     "text": [
      "1,0.360759493671,0.774182917611,0.421807747489,0.808968222311\n",
      "[ 0.11754463 -0.18578547 -0.0500088  -0.05916579  0.10637787  0.04133855\n",
      "  0.10660929  0.05165792  0.15982448  0.11193703] [[ 1.06209142  1.0620158   1.05927347  1.05948593  1.06204188  0.93788058\n",
      "   1.06262633  0.98277192  0.98897905  0.95243931]]\n"
     ]
    },
    {
     "name": "stderr",
     "output_type": "stream",
     "text": [
      "/home/sunita/anaconda3/lib/python3.6/site-packages/ipykernel_launcher.py:384: RuntimeWarning: invalid value encountered in long_scalars\n"
     ]
    },
    {
     "name": "stdout",
     "output_type": "stream",
     "text": [
      "2,0.365558912387,0.785474426808,0.416779431664,0.816997591928\n",
      "[ 0.11754463 -0.18578547 -0.07923395 -0.08870149  0.10637787  0.04133855\n",
      "  0.07510976  0.05730981  0.16281668  0.13688215] [[ 1.0928127   1.09268064  1.08830905  1.08884533  1.09269005  0.90682909\n",
      "   1.09413894  0.97919357  0.98753404  0.92695092]]\n"
     ]
    },
    {
     "name": "stderr",
     "output_type": "stream",
     "text": [
      "/home/sunita/anaconda3/lib/python3.6/site-packages/ipykernel_launcher.py:384: RuntimeWarning: invalid value encountered in long_scalars\n"
     ]
    },
    {
     "name": "stdout",
     "output_type": "stream",
     "text": [
      "3,0.361481481481,0.79590526581,0.41059602649,0.824364003014\n",
      "[ 0.11754463 -0.18578547 -0.10824781 -0.11806586  0.10637787  0.04133855\n",
      "  0.04366743  0.05979644  0.16319493  0.16158486] [[ 1.12329862  1.12310075  1.11711284  1.11801998  1.12308968  0.87599668\n",
      "   1.12559516  0.97901065  0.98883615  0.90157384]]\n"
     ]
    },
    {
     "name": "stderr",
     "output_type": "stream",
     "text": [
      "/home/sunita/anaconda3/lib/python3.6/site-packages/ipykernel_launcher.py:384: RuntimeWarning: invalid value encountered in long_scalars\n"
     ]
    },
    {
     "name": "stdout",
     "output_type": "stream",
     "text": [
      "4,0.361233480176,0.797519778282,0.408432147563,0.82434184284\n",
      "[ 0.11754463 -0.18578547 -0.13716965 -0.14734207  0.10637787  0.04133855\n",
      "  0.0123208   0.05926567  0.16110127  0.18579327] [[ 1.15358097  1.15331002  1.14581009  1.14709753  1.15327606  0.84541505\n",
      "   1.15695641  0.98198824  0.99268444  0.87658019]]\n"
     ]
    },
    {
     "name": "stderr",
     "output_type": "stream",
     "text": [
      "/home/sunita/anaconda3/lib/python3.6/site-packages/ipykernel_launcher.py:384: RuntimeWarning: invalid value encountered in long_scalars\n"
     ]
    },
    {
     "name": "stdout",
     "output_type": "stream",
     "text": [
      "5,0.361379310345,0.806973041068,0.405472636816,0.833024937582\n",
      "[ 0.11754463 -0.18578547 -0.16608681 -0.17659396  0.10637787  0.04133855\n",
      " -0.0189224   0.05596532  0.15675008  0.2094014 ] [[ 1.18370033  1.18335024  1.17449332  1.17614581  1.18329167  0.81507097\n",
      "   1.18821482  0.98778879  0.99881138  0.85209   ]]\n"
     ]
    },
    {
     "name": "stderr",
     "output_type": "stream",
     "text": [
      "/home/sunita/anaconda3/lib/python3.6/site-packages/ipykernel_launcher.py:384: RuntimeWarning: invalid value encountered in long_scalars\n"
     ]
    },
    {
     "name": "stdout",
     "output_type": "stream",
     "text": [
      "6,0.349206349206,0.808016124969,0.402424242424,0.835630604677\n",
      "[ 0.11754463 -0.18578547 -0.19505584 -0.20586455  0.10637787  0.04133855\n",
      " -0.05006911  0.05020403  0.15038912  0.23238275] [[ 1.2136958   1.21326129  1.20322339  1.20521112  1.21317676  0.78493276\n",
      "   1.21937717  0.99602842  1.00692805  0.8281416 ]]\n"
     ]
    },
    {
     "name": "stderr",
     "output_type": "stream",
     "text": [
      "/home/sunita/anaconda3/lib/python3.6/site-packages/ipykernel_launcher.py:384: RuntimeWarning: invalid value encountered in long_scalars\n"
     ]
    },
    {
     "name": "stdout",
     "output_type": "stream",
     "text": [
      "7,0.336734693878,0.808838498362,0.388824214203,0.837157809984\n",
      "[ 0.11754463 -0.18578547 -0.22410832 -0.23517929  0.10637787  0.04133855\n",
      " -0.08113188  0.04231124  0.14227033  0.25475215] [[ 1.24360081  1.24307715  1.23203531  1.23432157  1.24296545  0.75496433\n",
      "   1.2504559   1.00632576  1.0167552   0.80473114]]\n"
     ]
    },
    {
     "name": "stderr",
     "output_type": "stream",
     "text": [
      "/home/sunita/anaconda3/lib/python3.6/site-packages/ipykernel_launcher.py:384: RuntimeWarning: invalid value encountered in long_scalars\n"
     ]
    },
    {
     "name": "stdout",
     "output_type": "stream",
     "text": [
      "8,0.314285714286,0.80714638448,0.36582694414,0.835017506537\n",
      "[ 0.11754463 -0.18578547 -0.25325796 -0.26455081  0.10637787  0.04133855\n",
      " -0.11212414  0.03260553  0.13263137  0.27654456] [[ 1.27344221  1.27282498  1.26094548  1.26349177  1.27268497  0.7251318\n",
      "   1.28146435  1.01833343  1.02804004  0.78183418]]\n"
     ]
    },
    {
     "name": "stderr",
     "output_type": "stream",
     "text": [
      "/home/sunita/anaconda3/lib/python3.6/site-packages/ipykernel_launcher.py:384: RuntimeWarning: invalid value encountered in long_scalars\n"
     ]
    },
    {
     "name": "stdout",
     "output_type": "stream",
     "text": [
      "9,0.314318975553,0.810705971277,0.365217391304,0.83661857909\n",
      "[ 0.11754463 -0.18578547 -0.28250706 -0.29398333  0.10637787  0.04133855\n",
      " -0.14305813  0.02137553  0.12168634  0.29780386] [[ 1.30324079  1.30252582  1.28995823  1.29272745  1.30235633  0.69540596\n",
      "   1.31241469  1.03175197  1.04056246  0.75941688]]\n"
     ]
    },
    {
     "name": "stderr",
     "output_type": "stream",
     "text": [
      "/home/sunita/anaconda3/lib/python3.6/site-packages/ipykernel_launcher.py:384: RuntimeWarning: invalid value encountered in long_scalars\n"
     ]
    },
    {
     "name": "stdout",
     "output_type": "stream",
     "text": [
      "10,0.313501144165,0.81283446712,0.361111111111,0.836840180827\n",
      "[ 0.11754463 -0.18578547 -0.31185134 -0.32347607  0.10637787  0.04133855\n",
      " -0.17394419  0.00887202  0.109623    0.31857709] [[ 1.33301239  1.33219561  1.31907082  1.32202887  1.33199543  0.66576277\n",
      "   1.34331721  1.04633147  1.05413474  0.73744166]]\n"
     ]
    },
    {
     "name": "stderr",
     "output_type": "stream",
     "text": [
      "/home/sunita/anaconda3/lib/python3.6/site-packages/ipykernel_launcher.py:384: RuntimeWarning: invalid value encountered in long_scalars\n"
     ]
    },
    {
     "name": "stdout",
     "output_type": "stream",
     "text": [
      "11,0.314835787089,0.815654320988,0.359574468085,0.837155963303\n",
      "[ 0.11754463 -0.18578547 -0.3412833  -0.35302553  0.10637787  0.04133855\n",
      " -0.20479065 -0.0046925   0.09660349  0.3389117 ] [[ 1.36276892  1.36184637  1.34827688  1.35139323  1.36161422  0.63618297\n",
      "   1.37418021  1.06186689  1.06859838  0.71586985]]\n"
     ]
    },
    {
     "name": "stderr",
     "output_type": "stream",
     "text": [
      "/home/sunita/anaconda3/lib/python3.6/site-packages/ipykernel_launcher.py:384: RuntimeWarning: invalid value encountered in long_scalars\n"
     ]
    },
    {
     "name": "stdout",
     "output_type": "stream",
     "text": [
      "12,0.311946902655,0.817794910557,0.359243697479,0.838365539452\n",
      "[ 0.11754463 -0.18578547 -0.37079422 -0.38262695  0.10637787  0.04133855\n",
      " -0.23560409 -0.01914044  0.08276679  0.35885423] [[ 1.39251935  1.39148713  1.37756849  1.38081625  1.39122163  0.6066513\n",
      "   1.40501024  1.0781912   1.0838199   0.69466295]]\n"
     ]
    },
    {
     "name": "stderr",
     "output_type": "stream",
     "text": [
      "/home/sunita/anaconda3/lib/python3.6/site-packages/ipykernel_launcher.py:384: RuntimeWarning: invalid value encountered in long_scalars\n"
     ]
    },
    {
     "name": "stdout",
     "output_type": "stream",
     "text": [
      "13,0.30989010989,0.818238347191,0.357588357588,0.840282394481\n",
      "[ 0.11754463 -0.18578547 -0.4003753  -0.41227516  0.10637787  0.04133855\n",
      " -0.26638962 -0.03432427  0.06823163  0.37844976] [[ 1.42227042  1.42112466  1.40693739  1.41029299  1.42082437  0.5771558\n",
      "   1.4358124   1.09516837  1.09968685  0.67378311]]\n"
     ]
    },
    {
     "name": "stderr",
     "output_type": "stream",
     "text": [
      "/home/sunita/anaconda3/lib/python3.6/site-packages/ipykernel_launcher.py:384: RuntimeWarning: invalid value encountered in long_scalars\n"
     ]
    },
    {
     "name": "stdout",
     "output_type": "stream",
     "text": [
      "14,0.29614181439,0.81759334845,0.350806451613,0.840760684897\n",
      "[ 0.11754463 -0.18578547 -0.43001823 -0.44196504  0.10637787  0.04133855\n",
      " -0.29715117 -0.05012161  0.05309943  0.39774177] [[ 1.45202718  1.45076406  1.4363756   1.43981841  1.45042745  0.54768711\n",
      "   1.46659061  1.11268726  1.1161042   0.65319333]]\n"
     ]
    },
    {
     "name": "stderr",
     "output_type": "stream",
     "text": [
      "/home/sunita/anaconda3/lib/python3.6/site-packages/ipykernel_launcher.py:384: RuntimeWarning: invalid value encountered in long_scalars\n"
     ]
    },
    {
     "name": "stdout",
     "output_type": "stream",
     "text": [
      "15,0.291836734694,0.81850239355,0.33786407767,0.840286087843\n",
      "[ 0.11754463 -0.18578547 -0.45971538 -0.4716917   0.10637787  0.04133855\n",
      " -0.32789175 -0.06643075  0.03745696  0.41677211] [[ 1.48179342  1.48040914  1.46587566  1.46938757  1.48003462  0.51823794\n",
      "   1.49734786  1.1306566   1.13299134  0.63285744]]\n"
     ]
    },
    {
     "name": "stderr",
     "output_type": "stream",
     "text": [
      "/home/sunita/anaconda3/lib/python3.6/site-packages/ipykernel_launcher.py:384: RuntimeWarning: invalid value encountered in long_scalars\n"
     ]
    },
    {
     "name": "stdout",
     "output_type": "stream",
     "text": [
      "16,0.28373015873,0.817220458554,0.328922495274,0.838775502667\n",
      "[ 0.11754463 -0.18578547 -0.48945991 -0.50145065  0.10637787  0.04133855\n",
      " -0.35861364 -0.08316685  0.02137856  0.43558105] [[ 1.51157198  1.51006278  1.49543076  1.49899584  1.50964871  0.48880261\n",
      "   1.52808645  1.14900097  1.15027962  0.61274013]]\n"
     ]
    },
    {
     "name": "stderr",
     "output_type": "stream",
     "text": [
      "/home/sunita/anaconda3/lib/python3.6/site-packages/ipykernel_launcher.py:384: RuntimeWarning: invalid value encountered in long_scalars\n"
     ]
    },
    {
     "name": "stdout",
     "output_type": "stream",
     "text": [
      "17,0.282329713722,0.816806248425,0.327067669173,0.837929722702\n",
      "[ 0.11754463 -0.18578547 -0.51924574 -0.53123775  0.10637787  0.04133855\n",
      " -0.38931861 -0.10025888  0.00492812  0.45420739] [[ 1.54136497  1.53972712  1.5250347   1.52863886  1.5392718   0.4593767\n",
      "   1.55880812  1.16765764  1.16791035  0.59280688]]\n"
     ]
    },
    {
     "name": "stderr",
     "output_type": "stream",
     "text": [
      "/home/sunita/anaconda3/lib/python3.6/site-packages/ipykernel_launcher.py:384: RuntimeWarning: invalid value encountered in long_scalars\n"
     ]
    },
    {
     "name": "stdout",
     "output_type": "stream",
     "text": [
      "18,0.282051282051,0.816325522802,0.327067669173,0.83745881901\n",
      "[ 0.11754463 -0.18578547 -0.54906745 -0.56104925  0.10637787  0.04133855\n",
      " -0.42000799 -0.11764701 -0.01183934  0.47268852] [[ 1.57117393  1.56940376  1.55468189  1.55831264  1.56890541  0.42995678\n",
      "   1.58951422  1.1865741   1.18583315  0.57302395]]\n"
     ]
    },
    {
     "name": "stderr",
     "output_type": "stream",
     "text": [
      "/home/sunita/anaconda3/lib/python3.6/site-packages/ipykernel_launcher.py:384: RuntimeWarning: invalid value encountered in long_scalars\n"
     ]
    },
    {
     "name": "stdout",
     "output_type": "stream",
     "text": [
      "19,0.282051282051,0.818010582011,0.326797385621,0.837386798446\n",
      "[ 0.11754463 -0.18578547 -0.57892025 -0.59088179  0.10637787  0.04133855\n",
      " -0.45068282 -0.1352807  -0.02887628  0.49106052] [[ 1.60099995  1.59909383  1.58436728  1.58801347  1.59855066  0.40054019\n",
      "   1.62020579  1.20570614  1.20400463  0.55335837]]\n"
     ]
    },
    {
     "name": "stderr",
     "output_type": "stream",
     "text": [
      "/home/sunita/anaconda3/lib/python3.6/site-packages/ipykernel_launcher.py:384: RuntimeWarning: invalid value encountered in long_scalars\n"
     ]
    },
    {
     "name": "stdout",
     "output_type": "stream",
     "text": [
      "20,0.283464566929,0.818822877299,0.324976787372,0.836184609021\n",
      "[ 0.11754463 -0.18578547 -0.60879989 -0.6207323   0.10637787  0.04133855\n",
      " -0.4813439  -0.153117   -0.04614156  0.50935819] [[ 1.63084381  1.62879817  1.61408631  1.61773799  1.62820831  0.37112489\n",
      "   1.65088363  1.22501635  1.22238733  0.5337779 ]]\n"
     ]
    },
    {
     "name": "stderr",
     "output_type": "stream",
     "text": [
      "/home/sunita/anaconda3/lib/python3.6/site-packages/ipykernel_launcher.py:384: RuntimeWarning: invalid value encountered in long_scalars\n"
     ]
    },
    {
     "name": "stdout",
     "output_type": "stream",
     "text": [
      "21,0.283185840708,0.818196019148,0.323774283071,0.835534577258\n",
      "[ 0.11754463 -0.18578547 -0.63870258 -0.65059806  0.10637787  0.04133855\n",
      " -0.51199187 -0.17111928 -0.06359952  0.52761511] [[ 1.66070599  1.65851732  1.64383484  1.64748311  1.65787888  0.3417093\n",
      "   1.68154838  1.24447292  1.24094879  0.51425113]]\n"
     ]
    },
    {
     "name": "stderr",
     "output_type": "stream",
     "text": [
      "/home/sunita/anaconda3/lib/python3.6/site-packages/ipykernel_launcher.py:384: RuntimeWarning: invalid value encountered in long_scalars\n"
     ]
    },
    {
     "name": "stdout",
     "output_type": "stream",
     "text": [
      "22,0.283185840708,0.818073066264,0.323774283071,0.835307435477\n",
      "[ 0.11754463 -0.18578547 -0.66862498 -0.68047662  0.10637787  0.04133855\n",
      " -0.54262725 -0.18925622 -0.08121916  0.5458637 ] [[ 1.6905868   1.68825165  1.67360917  1.67724604  1.68756269  0.31229224\n",
      "   1.71220058  1.26404871  1.25966086  0.49474743]]\n"
     ]
    },
    {
     "name": "stderr",
     "output_type": "stream",
     "text": [
      "/home/sunita/anaconda3/lib/python3.6/site-packages/ipykernel_launcher.py:384: RuntimeWarning: invalid value encountered in long_scalars\n"
     ]
    },
    {
     "name": "stdout",
     "output_type": "stream",
     "text": [
      "23,0.283185840708,0.817831191736,0.323774283071,0.8347959048\n",
      "[ 0.11754463 -0.18578547 -0.69856412 -0.71036577  0.10637787  0.04133855\n",
      " -0.57325047 -0.20750094 -0.09897352  0.56413516] [[ 1.72048635  1.71800134  1.70340592  1.70702422  1.71725989  0.28287283\n",
      "   1.74284065  1.28372045  1.27849904  0.47523704]]\n"
     ]
    },
    {
     "name": "stderr",
     "output_type": "stream",
     "text": [
      "/home/sunita/anaconda3/lib/python3.6/site-packages/ipykernel_launcher.py:384: RuntimeWarning: invalid value encountered in long_scalars\n"
     ]
    },
    {
     "name": "stdout",
     "output_type": "stream",
     "text": [
      "24,0.283185840708,0.817544973545,0.323774283071,0.834315767702\n",
      "[ 0.11754463 -0.18578547 -0.72851736 -0.74026355  0.10637787  0.04133855\n",
      " -0.60386191 -0.22583032 -0.11683915  0.58245959] [[ 1.75040465  1.74776647  1.73322206  1.73681536  1.7469705   0.25345041\n",
      "   1.77346899  1.30346819  1.29744204  0.45569109]]\n"
     ]
    },
    {
     "name": "stderr",
     "output_type": "stream",
     "text": [
      "/home/sunita/anaconda3/lib/python3.6/site-packages/ipykernel_launcher.py:384: RuntimeWarning: invalid value encountered in long_scalars\n"
     ]
    },
    {
     "name": "stdout",
     "output_type": "stream",
     "text": [
      "25,0.282630029441,0.817095490048,0.320512820513,0.833636189041\n",
      "[ 0.11754463 -0.18578547 -0.75848237 -0.77016821  0.10637787  0.04133855\n",
      " -0.63446192 -0.24422447 -0.13479562  0.60086586] [[ 1.78034159  1.77754701  1.76305487  1.76661735  1.77669448  0.22402453\n",
      "   1.80408595  1.32327477  1.3164713   0.43608167]]\n"
     ]
    },
    {
     "name": "stderr",
     "output_type": "stream",
     "text": [
      "/home/sunita/anaconda3/lib/python3.6/site-packages/ipykernel_launcher.py:384: RuntimeWarning: invalid value encountered in long_scalars\n"
     ]
    },
    {
     "name": "stdout",
     "output_type": "stream",
     "text": [
      "26,0.282375851996,0.817585285966,0.319051959891,0.833379500362\n",
      "[ 0.11754463 -0.18578547 -0.78845708 -0.8000782   0.10637787  0.04133855\n",
      " -0.66505082 -0.26266625 -0.15282515  0.6193817 ] [[ 1.81029698  1.80734286  1.79290187  1.79642833  1.80643168  0.19459487\n",
      "   1.83469184  1.34312542  1.33557067  0.41638188]]\n"
     ]
    },
    {
     "name": "stderr",
     "output_type": "stream",
     "text": [
      "/home/sunita/anaconda3/lib/python3.6/site-packages/ipykernel_launcher.py:384: RuntimeWarning: invalid value encountered in long_scalars\n"
     ]
    },
    {
     "name": "stdout",
     "output_type": "stream",
     "text": [
      "27,0.282375851996,0.816881834215,0.319051959891,0.832319505385\n",
      "[ 0.11754463 -0.18578547 -0.81843966 -0.82999213  0.10637787  0.04133855\n",
      " -0.69562891 -0.2811409  -0.1709123   0.63803361] [[ 1.84027059  1.83715386  1.82276087  1.82624659  1.83618192  0.16516124\n",
      "   1.865287    1.36300743  1.3547261   0.39656589]]\n"
     ]
    },
    {
     "name": "stderr",
     "output_type": "stream",
     "text": [
      "/home/sunita/anaconda3/lib/python3.6/site-packages/ipykernel_launcher.py:384: RuntimeWarning: invalid value encountered in long_scalars\n"
     ]
    },
    {
     "name": "stdout",
     "output_type": "stream",
     "text": [
      "28,0.282375851996,0.816678256488,0.319051959891,0.829475616422\n",
      "[ 0.11754463 -0.18578547 -0.8484285  -0.85990878  0.10637787  0.04133855\n",
      " -0.72619652 -0.29963573 -0.18904365  0.65684684] [[ 1.87026212  1.8669798   1.85262989  1.85607062  1.86594496  0.13572352\n",
      "   1.89587174  1.38290988  1.37392536  0.37660902]]\n"
     ]
    },
    {
     "name": "stderr",
     "output_type": "stream",
     "text": [
      "/home/sunita/anaconda3/lib/python3.6/site-packages/ipykernel_launcher.py:384: RuntimeWarning: invalid value encountered in long_scalars\n"
     ]
    },
    {
     "name": "stdout",
     "output_type": "stream",
     "text": [
      "29,0.282375851996,0.816333585286,0.319051959891,0.828884678456\n",
      "[ 0.11754463 -0.18578547 -0.87842221 -0.88982708  0.10637787  0.04133855\n",
      " -0.75675395 -0.31813986 -0.20720761  0.67584533] [[ 1.90027126  1.89682045  1.88250717  1.88589907  1.89572054  0.1062817\n",
      "   1.92644637  1.4028234   1.39315786  0.35648781]]\n"
     ]
    },
    {
     "name": "stderr",
     "output_type": "stream",
     "text": [
      "/home/sunita/anaconda3/lib/python3.6/site-packages/ipykernel_launcher.py:384: RuntimeWarning: invalid value encountered in long_scalars\n"
     ]
    },
    {
     "name": "stdout",
     "output_type": "stream",
     "text": [
      "30,0.282375851996,0.815517258755,0.319051959891,0.827531061177\n",
      "[ 0.11754463 -0.18578547 -0.90841953 -0.91974607  0.10637787  0.04133855\n",
      " -0.78730154 -0.33664397 -0.22539414  0.69505167] [[ 1.93029766  1.92667553  1.91239113  1.91573071  1.92550837  0.07683579\n",
      "   1.95701122  1.42273995  1.4124144   0.33618011]]\n"
     ]
    },
    {
     "name": "stderr",
     "output_type": "stream",
     "text": [
      "/home/sunita/anaconda3/lib/python3.6/site-packages/ipykernel_launcher.py:384: RuntimeWarning: invalid value encountered in long_scalars\n"
     ]
    },
    {
     "name": "stdout",
     "output_type": "stream",
     "text": [
      "31,0.282375851996,0.81527941547,0.319051959891,0.827270679135\n",
      "[ 0.11754463 -0.18578547 -0.9384194  -0.94966492  0.10637787  0.04133855\n",
      " -0.8178396  -0.35514015 -0.24359466  0.71448704] [[ 1.96034093  1.95654478  1.9422804   1.94556447  1.95530816  0.04738587\n",
      "   1.98756664  1.44265271  1.4316871   0.31566515]]\n"
     ]
    },
    {
     "name": "stderr",
     "output_type": "stream",
     "text": [
      "/home/sunita/anaconda3/lib/python3.6/site-packages/ipykernel_launcher.py:384: RuntimeWarning: invalid value encountered in long_scalars\n"
     ]
    },
    {
     "name": "stdout",
     "output_type": "stream",
     "text": [
      "32,0.282375851996,0.814662635425,0.319051959891,0.825771174046\n",
      "[ 0.11754463 -0.18578547 -0.96842089 -0.9795829   0.10637787  0.04133855\n",
      " -0.8483685  -0.37362166 -0.2618018   0.73417109] [[ 1.99040072  1.9864279   1.97217374  1.97539939  1.98511959  0.01793203\n",
      "   2.01811296  1.46255585  1.45096914  0.29492364]]\n"
     ]
    },
    {
     "name": "stderr",
     "output_type": "stream",
     "text": [
      "/home/sunita/anaconda3/lib/python3.6/site-packages/ipykernel_launcher.py:384: RuntimeWarning: invalid value encountered in long_scalars\n"
     ]
    },
    {
     "name": "stdout",
     "output_type": "stream",
     "text": [
      "33,0.149122807018,0.796451499118,0.172214824678,0.80065815716\n",
      "[ 0.11754463 -0.18578547 -0.99842318 -1.00949939  0.10637787  0.04133855\n",
      " -0.87888857 -0.39208289 -0.28000932  0.75412194] [[ 2.02047661  2.01632458  2.00207008  2.00523462  2.01494234 -0.01152559\n",
      "   2.04865055  1.48244449  1.47025473  0.27393783]]\n"
     ]
    },
    {
     "name": "stderr",
     "output_type": "stream",
     "text": [
      "/home/sunita/anaconda3/lib/python3.6/site-packages/ipykernel_launcher.py:384: RuntimeWarning: invalid value encountered in long_scalars\n"
     ]
    },
    {
     "name": "stdout",
     "output_type": "stream",
     "text": [
      "34,0.149122807018,0.796350718065,0.172214824678,0.800237113859\n",
      "[ 0.11754463 -0.18578547 -1.02842561 -1.03941383  0.10637787  0.04133855\n",
      " -0.9094002  -0.41051913 -0.29821195  0.774356  ] [[ 2.05056823  2.04623451  2.03196849  2.03506942  2.04477612 -0.04098685\n",
      "   2.07917977  1.50231451  1.48953893  0.25269162]]\n"
     ]
    },
    {
     "name": "stderr",
     "output_type": "stream",
     "text": [
      "/home/sunita/anaconda3/lib/python3.6/site-packages/ipykernel_launcher.py:384: RuntimeWarning: invalid value encountered in long_scalars\n"
     ]
    },
    {
     "name": "stdout",
     "output_type": "stream",
     "text": [
      "35,0.149122807018,0.796106827916,0.172214824678,0.799712656414\n",
      "[ 0.11754463 -0.18578547 -1.0584276  -1.06932576  0.10637787  0.04133855\n",
      " -0.93990374 -0.42892651 -0.3164053   0.79488801] [[ 2.08067517  2.07615739  2.06186815  2.06490313  2.07462059 -0.07045159\n",
      "   2.109701    1.52216253  1.50881758  0.23117066]]\n"
     ]
    },
    {
     "name": "stderr",
     "output_type": "stream",
     "text": [
      "/home/sunita/anaconda3/lib/python3.6/site-packages/ipykernel_launcher.py:384: RuntimeWarning: invalid value encountered in long_scalars\n"
     ]
    },
    {
     "name": "stdout",
     "output_type": "stream",
     "text": [
      "36,0.149122807018,0.795957671958,0.172214824678,0.799635095806\n",
      "[ 0.11754463 -0.18578547 -1.08842865 -1.09923478  0.10637787  0.04133855\n",
      " -0.97039959 -0.44730189 -0.33458574  0.81573086] [[ 2.11079704  2.1060929   2.09176836  2.09473517  2.10447546 -0.09991964\n",
      "   2.14021462  1.54198573  1.52808721  0.20936238]]\n"
     ]
    },
    {
     "name": "stderr",
     "output_type": "stream",
     "text": [
      "/home/sunita/anaconda3/lib/python3.6/site-packages/ipykernel_launcher.py:384: RuntimeWarning: invalid value encountered in long_scalars\n"
     ]
    },
    {
     "name": "stdout",
     "output_type": "stream",
     "text": [
      "37,0.149122807018,0.795524313429,0.172214824678,0.799437500923\n",
      "[ 0.11754463 -0.18578547 -1.11842839 -1.12914054  0.10637787  0.04133855\n",
      " -1.00088813 -0.46564277 -0.35275033  0.83689559] [[ 2.14093345  2.13604075  2.12166854  2.12456506  2.13434041 -0.12939082\n",
      "   2.17072103  1.56178186  1.54734495  0.18725606]]\n"
     ]
    },
    {
     "name": "stderr",
     "output_type": "stream",
     "text": [
      "/home/sunita/anaconda3/lib/python3.6/site-packages/ipykernel_launcher.py:384: RuntimeWarning: invalid value encountered in long_scalars\n"
     ]
    },
    {
     "name": "stdout",
     "output_type": "stream",
     "text": [
      "38,0.149122807018,0.794990173847,0.172214824678,0.798327645555\n",
      "[ 0.11754463 -0.18578547 -1.14842649 -1.15904277  0.10637787  0.04133855\n",
      " -1.03136976 -0.48394719 -0.37089671  0.85839131] [[ 2.17108401  2.16600061  2.15156818  2.15439235  2.16421515 -0.15886496\n",
      "   2.2012206   1.58154911  1.56658846  0.16484291]]\n"
     ]
    },
    {
     "name": "stderr",
     "output_type": "stream",
     "text": [
      "/home/sunita/anaconda3/lib/python3.6/site-packages/ipykernel_launcher.py:384: RuntimeWarning: invalid value encountered in long_scalars\n"
     ]
    },
    {
     "name": "stdout",
     "output_type": "stream",
     "text": [
      "39,0.149122807018,0.794853111615,0.172214824678,0.798172524339\n",
      "[ 0.11754463 -0.18578547 -1.17842271 -1.18894122  0.10637787  0.04133855\n",
      " -1.06184487 -0.50221369 -0.38902304  0.88022518] [[ 2.20124834  2.1959722   2.18146688  2.18421669  2.19409939 -0.18834187\n",
      "   2.23171376  1.60128609  1.58581584  0.14211607]]\n"
     ]
    },
    {
     "name": "stderr",
     "output_type": "stream",
     "text": [
      "/home/sunita/anaconda3/lib/python3.6/site-packages/ipykernel_launcher.py:384: RuntimeWarning: invalid value encountered in long_scalars\n"
     ]
    },
    {
     "name": "stdout",
     "output_type": "stream",
     "text": [
      "40,0.149057430951,0.794661627614,0.172214824678,0.797847508458\n",
      "[ 0.11754463 -0.18578547 -1.20841687 -1.21883571  0.10637787  0.04133855\n",
      " -1.09231387 -0.52044121 -0.40712792  0.90240234] [[ 2.23142606  2.22595522  2.2113643   2.21403776  2.22399286 -0.21782137\n",
      "   2.26220088  1.62099174  1.60502561  0.11907065]]\n"
     ]
    },
    {
     "name": "stderr",
     "output_type": "stream",
     "text": [
      "/home/sunita/anaconda3/lib/python3.6/site-packages/ipykernel_launcher.py:384: RuntimeWarning: invalid value encountered in long_scalars\n"
     ]
    },
    {
     "name": "stdout",
     "output_type": "stream",
     "text": [
      "41,0.149057430951,0.794599143361,0.172214824678,0.797646220213\n",
      "[ 0.11754463 -0.18578547 -1.23840884 -1.24872609  0.10637787  0.04133855\n",
      " -1.12277716 -0.53862904 -0.42521034  0.92492598] [[ 2.26161682  2.25594938  2.24126019  2.2438553   2.25389527 -0.24730328\n",
      "   2.29268238  1.64066529  1.62421663  0.09570369]]\n"
     ]
    },
    {
     "name": "stderr",
     "output_type": "stream",
     "text": [
      "/home/sunita/anaconda3/lib/python3.6/site-packages/ipykernel_launcher.py:384: RuntimeWarning: invalid value encountered in long_scalars\n"
     ]
    },
    {
     "name": "stdout",
     "output_type": "stream",
     "text": [
      "42,0.149057430951,0.794480221718,0.172214824678,0.797533572663\n",
      "[ 0.11754463 -0.18578547 -1.26839855 -1.27861224  0.10637787  0.04133855\n",
      " -1.15323514 -0.55677679 -0.44326963  0.94779729] [[ 2.29182025  2.2859544   2.27115435  2.2736691   2.28380637 -0.27678743\n",
      "   2.32315865  1.66030622  1.64338806  0.07201416]]\n"
     ]
    },
    {
     "name": "stderr",
     "output_type": "stream",
     "text": [
      "/home/sunita/anaconda3/lib/python3.6/site-packages/ipykernel_launcher.py:384: RuntimeWarning: invalid value encountered in long_scalars\n"
     ]
    },
    {
     "name": "stdout",
     "output_type": "stream",
     "text": [
      "43,0.149057430951,0.794244394054,0.172214824678,0.797404304983\n",
      "[ 0.11754463 -0.18578547 -1.29838597 -1.30849409  0.10637787  0.04133855\n",
      " -1.1836882  -0.57488429 -0.46130538  0.97101557] [[ 2.322036    2.31597     2.30104664  2.30347897  2.31372591 -0.30627364\n",
      "   2.35363008  1.67991423  1.66253929  0.0480029 ]]\n"
     ]
    },
    {
     "name": "stderr",
     "output_type": "stream",
     "text": [
      "/home/sunita/anaconda3/lib/python3.6/site-packages/ipykernel_launcher.py:384: RuntimeWarning: invalid value encountered in long_scalars\n"
     ]
    },
    {
     "name": "stdout",
     "output_type": "stream",
     "text": [
      "44,0.149057430951,0.794038800705,0.172214824678,0.797385838172\n",
      "[ 0.11754463 -0.18578547 -1.32837112 -1.33837158  0.10637787  0.04133855\n",
      " -1.21413674 -0.59295161 -0.47931741  0.99457824] [[ 2.35226375  2.34599591  2.33093698  2.3332848   2.34365365 -0.33576174\n",
      "   2.38409708  1.69948919  1.68166994  0.02367251]]\n"
     ]
    },
    {
     "name": "stderr",
     "output_type": "stream",
     "text": [
      "/home/sunita/anaconda3/lib/python3.6/site-packages/ipykernel_launcher.py:384: RuntimeWarning: invalid value encountered in long_scalars\n"
     ]
    },
    {
     "name": "stdout",
     "output_type": "stream",
     "text": [
      "45,0.149057430951,0.79383925422,0.172214824678,0.797166083115\n",
      "[ 0.11754463 -0.18578547 -1.35835405 -1.36824469  0.10637787  0.04133855\n",
      " -1.24458115 -0.61097898 -0.49730574  1.01848097] [[  2.38250316e+00   2.37603188e+00   2.36082533e+00   2.36308646e+00\n",
      "    2.37358935e+00  -3.65251570e-01   2.41456002e+00   1.71903110e+00\n",
      "    1.70077979e+00  -9.72718792e-04]]\n"
     ]
    },
    {
     "name": "stderr",
     "output_type": "stream",
     "text": [
      "/home/sunita/anaconda3/lib/python3.6/site-packages/ipykernel_launcher.py:384: RuntimeWarning: invalid value encountered in long_scalars\n"
     ]
    },
    {
     "name": "stdout",
     "output_type": "stream",
     "text": [
      "46,0.149057430951,0.793452254976,0.172214824678,0.796926014567\n",
      "[ 0.11754463 -0.18578547 -1.38833485 -1.39811342  0.10637787  0.04133855\n",
      " -1.27502181 -0.62896675 -0.51527054  1.0427178 ] [[ 2.41275392  2.40607766  2.3907117   2.39288389  2.4035328  -0.39474297\n",
      "   2.44501929  1.73854009  1.71986878 -0.02592692]]\n"
     ]
    },
    {
     "name": "stderr",
     "output_type": "stream",
     "text": [
      "/home/sunita/anaconda3/lib/python3.6/site-packages/ipykernel_launcher.py:384: RuntimeWarning: invalid value encountered in long_scalars\n"
     ]
    },
    {
     "name": "stdout",
     "output_type": "stream",
     "text": [
      "47,0.149057430951,0.793254724112,0.172214824678,0.796530824802\n",
      "[ 0.11754463 -0.18578547 -1.41831361 -1.42797778  0.10637787  0.04133855\n",
      " -1.3054591  -0.6469154  -0.53321211  1.06728125] [[ 2.44301572  2.43613301  2.42059612  2.42267705  2.43348379 -0.4242358\n",
      "   2.47547527  1.75801638  1.73893696 -0.05118283]]\n"
     ]
    },
    {
     "name": "stderr",
     "output_type": "stream",
     "text": [
      "/home/sunita/anaconda3/lib/python3.6/site-packages/ipykernel_launcher.py:384: RuntimeWarning: invalid value encountered in long_scalars\n"
     ]
    },
    {
     "name": "stdout",
     "output_type": "stream",
     "text": [
      "48,0.149057430951,0.792990677753,0.172214824678,0.796100548095\n",
      "[ 0.11754463 -0.18578547 -1.44829048 -1.45783782  0.10637787  0.04133855\n",
      " -1.33589339 -0.6648255  -0.55113082  1.09216247] [[ 2.47328828  2.46619768  2.45047867  2.45246592  2.46344212 -0.4537299\n",
      "   2.50592832  1.77746027  1.75798447 -0.07673189]]\n"
     ]
    },
    {
     "name": "stderr",
     "output_type": "stream",
     "text": [
      "/home/sunita/anaconda3/lib/python3.6/site-packages/ipykernel_launcher.py:384: RuntimeWarning: invalid value encountered in long_scalars\n"
     ]
    },
    {
     "name": "stdout",
     "output_type": "stream",
     "text": [
      "49,0.149057430951,0.792500881834,0.172214824678,0.795367415681\n",
      "[ 0.11754463 -0.18578547 -1.47826561 -1.4876936   0.10637787  0.04133855\n",
      " -1.36632505 -0.68269766 -0.56902714  1.11735146] [[ 2.50357131  2.49627147  2.48035944  2.48225051  2.4934076  -0.48322514\n",
      "   2.53637881  1.79687212  1.77701152 -0.10256447]]\n"
     ]
    },
    {
     "name": "stderr",
     "output_type": "stream",
     "text": [
      "/home/sunita/anaconda3/lib/python3.6/site-packages/ipykernel_launcher.py:384: RuntimeWarning: invalid value encountered in long_scalars\n"
     ]
    },
    {
     "name": "stdout",
     "output_type": "stream",
     "text": [
      "50,0.149057430951,0.792248929201,0.172214824678,0.795203061059\n",
      "[ 0.11754463 -0.18578547 -1.50823918 -1.51754518  0.10637787  0.04133855\n",
      " -1.39675442 -0.70053256 -0.58690157  1.14283716] [[ 2.53386455  2.52635416  2.51023857  2.51203083  2.52338005 -0.51272139\n",
      "   2.56682708  1.81625232  1.79601838 -0.12866997]]\n"
     ]
    },
    {
     "name": "stderr",
     "output_type": "stream",
     "text": [
      "/home/sunita/anaconda3/lib/python3.6/site-packages/ipykernel_launcher.py:384: RuntimeWarning: invalid value encountered in long_scalars\n"
     ]
    },
    {
     "name": "stdout",
     "output_type": "stream",
     "text": [
      "51,0.149057430951,0.791438649534,0.172214824678,0.794562262701\n",
      "[ 0.11754463 -0.18578547 -1.53821137 -1.54739265  0.10637787  0.04133855\n",
      " -1.42718186 -0.7183309  -0.60475465  1.16860771] [[ 2.56416773  2.55644553  2.54011619  2.54180693  2.5533593  -0.54221853\n",
      "   2.59727348  1.8356013   1.81500537 -0.15503707]]\n"
     ]
    },
    {
     "name": "stderr",
     "output_type": "stream",
     "text": [
      "/home/sunita/anaconda3/lib/python3.6/site-packages/ipykernel_launcher.py:384: RuntimeWarning: invalid value encountered in long_scalars\n"
     ]
    },
    {
     "name": "stdout",
     "output_type": "stream",
     "text": [
      "52,0.149057430951,0.791150415722,0.172214824678,0.79409135901\n",
      "[ 0.11754463 -0.18578547 -1.56818237 -1.57723611  0.10637787  0.04133855\n",
      " -1.45760771 -0.7360934  -0.62258696  1.19465057] [[ 2.59448063  2.58654541  2.56999246  2.57157888  2.5833452  -0.57171644\n",
      "   2.62771836  1.85491953  1.83397283 -0.18165383]]\n"
     ]
    },
    {
     "name": "stderr",
     "output_type": "stream",
     "text": [
      "/home/sunita/anaconda3/lib/python3.6/site-packages/ipykernel_launcher.py:384: RuntimeWarning: invalid value encountered in long_scalars\n"
     ]
    },
    {
     "name": "stdout",
     "output_type": "stream",
     "text": [
      "53,0.149057430951,0.790896447468,0.172214824678,0.793873450635\n",
      "[ 0.11754463 -0.18578547 -1.5981524  -1.60707566  0.10637787  0.04133855\n",
      " -1.48803228 -0.75382079 -0.64039905  1.22095271] [[ 2.62480299  2.61665359  2.59986756  2.60134674  2.6133376  -0.60121501\n",
      "   2.65816202  1.87420748  1.8529211  -0.20850792]]\n"
     ]
    },
    {
     "name": "stderr",
     "output_type": "stream",
     "text": [
      "/home/sunita/anaconda3/lib/python3.6/site-packages/ipykernel_launcher.py:384: RuntimeWarning: invalid value encountered in long_scalars\n"
     ]
    },
    {
     "name": "stdout",
     "output_type": "stream",
     "text": [
      "54,0.149057430951,0.790378432855,0.172214824678,0.792615860775\n",
      "[ 0.11754463 -0.18578547 -1.62812167 -1.63691144  0.10637787  0.04133855\n",
      " -1.5184559  -0.77151382 -0.6581915   1.2475008 ] [[ 2.65513461  2.64676991  2.62974167  2.63111061  2.64333636 -0.63071416\n",
      "   2.6886048   1.89346563  1.87185056 -0.23558671]]\n"
     ]
    },
    {
     "name": "stderr",
     "output_type": "stream",
     "text": [
      "/home/sunita/anaconda3/lib/python3.6/site-packages/ipykernel_launcher.py:384: RuntimeWarning: invalid value encountered in long_scalars\n"
     ]
    },
    {
     "name": "stdout",
     "output_type": "stream",
     "text": [
      "55,0.149057430951,0.789541950113,0.172214824678,0.791206843062\n",
      "[ 0.11754463 -0.18578547 -1.65809038 -1.66674355  0.10637787  0.04133855\n",
      " -1.54887888 -0.78917321 -0.67596488  1.27428132] [[ 2.68547527  2.6768942   2.65961498  2.66087059  2.67334134 -0.66021378\n",
      "   2.719047    1.91269448  1.89076158 -0.26287749]]\n"
     ]
    },
    {
     "name": "stderr",
     "output_type": "stream",
     "text": [
      "/home/sunita/anaconda3/lib/python3.6/site-packages/ipykernel_launcher.py:384: RuntimeWarning: invalid value encountered in long_scalars\n"
     ]
    },
    {
     "name": "stdout",
     "output_type": "stream",
     "text": [
      "56,0.149057430951,0.789027966742,0.172214824678,0.791212383105\n",
      "[ 0.11754463 -0.18578547 -1.68805876 -1.69657214  0.10637787  0.04133855\n",
      " -1.57930152 -0.80679969 -0.69371972  1.30128076] [[ 2.71582478  2.7070263   2.68948768  2.69062677  2.70335243 -0.6897138\n",
      "   2.74948891  1.93189452  1.90965453 -0.29036754]]\n"
     ]
    },
    {
     "name": "stderr",
     "output_type": "stream",
     "text": [
      "/home/sunita/anaconda3/lib/python3.6/site-packages/ipykernel_launcher.py:384: RuntimeWarning: invalid value encountered in long_scalars\n"
     ]
    },
    {
     "name": "stdout",
     "output_type": "stream",
     "text": [
      "57,0.149057430951,0.78883446712,0.172062084257,0.790630678545\n",
      "[ 0.11754463 -0.18578547 -1.71802702 -1.72639734  0.10637787  0.04133855\n",
      " -1.60972411 -0.82439399 -0.71145657  1.3284857 ] [[ 2.74618294  2.73716605  2.71935997  2.72037929  2.73336951 -0.71921413\n",
      "   2.77993083  1.95106625  1.92852977 -0.31804428]]\n"
     ]
    },
    {
     "name": "stderr",
     "output_type": "stream",
     "text": [
      "/home/sunita/anaconda3/lib/python3.6/site-packages/ipykernel_launcher.py:384: RuntimeWarning: invalid value encountered in long_scalars\n"
     ]
    },
    {
     "name": "stdout",
     "output_type": "stream",
     "text": [
      "58,0.149057430951,0.787794406652,0.171985815603,0.789177340484\n",
      "[ 0.11754463 -0.18578547 -1.74799537 -1.75621929  0.10637787  0.04133855\n",
      " -1.64014692 -0.8419568  -0.72917592  1.35588295] [[ 2.77654958  2.76731332  2.74923206  2.75012825  2.76339247 -0.74871472\n",
      "   2.81037303  1.97021016  1.94738766 -0.34589536]]\n"
     ]
    },
    {
     "name": "stderr",
     "output_type": "stream",
     "text": [
      "/home/sunita/anaconda3/lib/python3.6/site-packages/ipykernel_launcher.py:384: RuntimeWarning: invalid value encountered in long_scalars\n"
     ]
    },
    {
     "name": "stdout",
     "output_type": "stream",
     "text": [
      "59,0.149057430951,0.787463844797,0.171985815603,0.789160720353\n",
      "[ 0.11754463 -0.18578547 -1.77796402 -1.78603814  0.10637787  0.04133855\n",
      " -1.67057023 -0.85948881 -0.74687826  1.38345961] [[ 2.80692453  2.79746798  2.77910413  2.7798738   2.79342122 -0.77821549\n",
      "   2.84081578  1.98932674  1.96622855 -0.37390879]]\n"
     ]
    },
    {
     "ename": "KeyboardInterrupt",
     "evalue": "",
     "output_type": "error",
     "traceback": [
      "\u001b[0;31m---------------------------------------------------------------------------\u001b[0m",
      "\u001b[0;31mKeyboardInterrupt\u001b[0m                         Traceback (most recent call last)",
      "\u001b[0;32m<ipython-input-9-a6fff95c8293>\u001b[0m in \u001b[0;36m<module>\u001b[0;34m()\u001b[0m\n\u001b[1;32m     22\u001b[0m \u001b[0;31m#        sys.stdout = stdout_saved\u001b[0m\u001b[0;34m\u001b[0m\u001b[0;34m\u001b[0m\u001b[0m\n\u001b[1;32m     23\u001b[0m         _, _, _, ops = train2(1/len(train_L_S),200,batch_size = b, th = tf.truncated_normal_initializer(1,0,seed),                                    af = tf.truncated_normal_initializer(0,0.1,seed),                                    user_a = ua,                                     LF_acc = np.repeat(0.4, len(LF_l)) ,pcl=np.array([-1,1],dtype=np.float64),                                    norm=True,smooth=True,penalty=pen_i, Gamma=gg, debug=False,                                    a_pr = np.repeat(0.750, len(LF_l)),                                            n_pr = np.repeat(4000, len(LF_l)),                                     isdiscrete = dscr, alpha_max=np.repeat(0.9, len(LF_l)),\n\u001b[0;32m---> 24\u001b[0;31m                              r_pr = np.repeat(0.750, len(LF_l)))\n\u001b[0m\u001b[1;32m     25\u001b[0m         \u001b[0msys\u001b[0m\u001b[0;34m.\u001b[0m\u001b[0mstdout\u001b[0m \u001b[0;34m=\u001b[0m \u001b[0morig_stdout\u001b[0m\u001b[0;34m\u001b[0m\u001b[0m\n\u001b[1;32m     26\u001b[0m \u001b[0;31m# get_LF_acc(dev_L_S,gold_labels_dev)\u001b[0m\u001b[0;34m\u001b[0m\u001b[0;34m\u001b[0m\u001b[0m\n",
      "\u001b[0;32m<ipython-input-8-8659652d7218>\u001b[0m in \u001b[0;36mtrain2\u001b[0;34m(lr, ep, th, af, batch_size, LF_acc, LF_rec, pcl, norm, smooth, penalty, p3k, alp, Gamma, debug, r1, r2, a_pr, n_pr, user_a, isdiscrete, alpha_max, r_pr)\u001b[0m\n\u001b[1;32m    356\u001b[0m \u001b[0;31m#                         print(en, it)\u001b[0m\u001b[0;34m\u001b[0m\u001b[0;34m\u001b[0m\u001b[0m\n\u001b[1;32m    357\u001b[0m \u001b[0;34m\u001b[0m\u001b[0m\n\u001b[0;32m--> 358\u001b[0;31m                         \u001b[0m_\u001b[0m\u001b[0;34m,\u001b[0m\u001b[0mls\u001b[0m\u001b[0;34m,\u001b[0m\u001b[0mploss\u001b[0m\u001b[0;34m,\u001b[0m\u001b[0mxpp\u001b[0m\u001b[0;34m,\u001b[0m\u001b[0mt\u001b[0m\u001b[0;34m,\u001b[0m\u001b[0mal\u001b[0m \u001b[0;34m=\u001b[0m \u001b[0msess\u001b[0m\u001b[0;34m.\u001b[0m\u001b[0mrun\u001b[0m\u001b[0;34m(\u001b[0m\u001b[0;34m[\u001b[0m\u001b[0mtrain_step\u001b[0m\u001b[0;34m,\u001b[0m\u001b[0mloss\u001b[0m\u001b[0;34m,\u001b[0m\u001b[0mprec_loss\u001b[0m\u001b[0;34m,\u001b[0m\u001b[0mxtra\u001b[0m\u001b[0;34m,\u001b[0m\u001b[0mthetas\u001b[0m\u001b[0;34m,\u001b[0m\u001b[0malphas\u001b[0m\u001b[0;34m]\u001b[0m\u001b[0;34m)\u001b[0m\u001b[0;34m\u001b[0m\u001b[0m\n\u001b[0m\u001b[1;32m    359\u001b[0m                         \u001b[0;32mif\u001b[0m\u001b[0;34m(\u001b[0m\u001b[0mpenalty\u001b[0m \u001b[0;34m==\u001b[0m \u001b[0;36m42\u001b[0m\u001b[0;34m)\u001b[0m\u001b[0;34m:\u001b[0m\u001b[0;34m\u001b[0m\u001b[0m\n\u001b[1;32m    360\u001b[0m                             \u001b[0mun_loss\u001b[0m \u001b[0;34m=\u001b[0m \u001b[0msess\u001b[0m\u001b[0;34m.\u001b[0m\u001b[0mrun\u001b[0m\u001b[0;34m(\u001b[0m\u001b[0mtemp_uloss\u001b[0m\u001b[0;34m)\u001b[0m\u001b[0;34m\u001b[0m\u001b[0m\n",
      "\u001b[0;32m/home/sunita/anaconda3/lib/python3.6/site-packages/tensorflow/python/client/session.py\u001b[0m in \u001b[0;36mrun\u001b[0;34m(self, fetches, feed_dict, options, run_metadata)\u001b[0m\n\u001b[1;32m    875\u001b[0m     \u001b[0;32mtry\u001b[0m\u001b[0;34m:\u001b[0m\u001b[0;34m\u001b[0m\u001b[0m\n\u001b[1;32m    876\u001b[0m       result = self._run(None, fetches, feed_dict, options_ptr,\n\u001b[0;32m--> 877\u001b[0;31m                          run_metadata_ptr)\n\u001b[0m\u001b[1;32m    878\u001b[0m       \u001b[0;32mif\u001b[0m \u001b[0mrun_metadata\u001b[0m\u001b[0;34m:\u001b[0m\u001b[0;34m\u001b[0m\u001b[0m\n\u001b[1;32m    879\u001b[0m         \u001b[0mproto_data\u001b[0m \u001b[0;34m=\u001b[0m \u001b[0mtf_session\u001b[0m\u001b[0;34m.\u001b[0m\u001b[0mTF_GetBuffer\u001b[0m\u001b[0;34m(\u001b[0m\u001b[0mrun_metadata_ptr\u001b[0m\u001b[0;34m)\u001b[0m\u001b[0;34m\u001b[0m\u001b[0m\n",
      "\u001b[0;32m/home/sunita/anaconda3/lib/python3.6/site-packages/tensorflow/python/client/session.py\u001b[0m in \u001b[0;36m_run\u001b[0;34m(self, handle, fetches, feed_dict, options, run_metadata)\u001b[0m\n\u001b[1;32m   1098\u001b[0m     \u001b[0;32mif\u001b[0m \u001b[0mfinal_fetches\u001b[0m \u001b[0;32mor\u001b[0m \u001b[0mfinal_targets\u001b[0m \u001b[0;32mor\u001b[0m \u001b[0;34m(\u001b[0m\u001b[0mhandle\u001b[0m \u001b[0;32mand\u001b[0m \u001b[0mfeed_dict_tensor\u001b[0m\u001b[0;34m)\u001b[0m\u001b[0;34m:\u001b[0m\u001b[0;34m\u001b[0m\u001b[0m\n\u001b[1;32m   1099\u001b[0m       results = self._do_run(handle, final_targets, final_fetches,\n\u001b[0;32m-> 1100\u001b[0;31m                              feed_dict_tensor, options, run_metadata)\n\u001b[0m\u001b[1;32m   1101\u001b[0m     \u001b[0;32melse\u001b[0m\u001b[0;34m:\u001b[0m\u001b[0;34m\u001b[0m\u001b[0m\n\u001b[1;32m   1102\u001b[0m       \u001b[0mresults\u001b[0m \u001b[0;34m=\u001b[0m \u001b[0;34m[\u001b[0m\u001b[0;34m]\u001b[0m\u001b[0;34m\u001b[0m\u001b[0m\n",
      "\u001b[0;32m/home/sunita/anaconda3/lib/python3.6/site-packages/tensorflow/python/client/session.py\u001b[0m in \u001b[0;36m_do_run\u001b[0;34m(self, handle, target_list, fetch_list, feed_dict, options, run_metadata)\u001b[0m\n\u001b[1;32m   1270\u001b[0m     \u001b[0;32mif\u001b[0m \u001b[0mhandle\u001b[0m \u001b[0;32mis\u001b[0m \u001b[0;32mNone\u001b[0m\u001b[0;34m:\u001b[0m\u001b[0;34m\u001b[0m\u001b[0m\n\u001b[1;32m   1271\u001b[0m       return self._do_call(_run_fn, feeds, fetches, targets, options,\n\u001b[0;32m-> 1272\u001b[0;31m                            run_metadata)\n\u001b[0m\u001b[1;32m   1273\u001b[0m     \u001b[0;32melse\u001b[0m\u001b[0;34m:\u001b[0m\u001b[0;34m\u001b[0m\u001b[0m\n\u001b[1;32m   1274\u001b[0m       \u001b[0;32mreturn\u001b[0m \u001b[0mself\u001b[0m\u001b[0;34m.\u001b[0m\u001b[0m_do_call\u001b[0m\u001b[0;34m(\u001b[0m\u001b[0m_prun_fn\u001b[0m\u001b[0;34m,\u001b[0m \u001b[0mhandle\u001b[0m\u001b[0;34m,\u001b[0m \u001b[0mfeeds\u001b[0m\u001b[0;34m,\u001b[0m \u001b[0mfetches\u001b[0m\u001b[0;34m)\u001b[0m\u001b[0;34m\u001b[0m\u001b[0m\n",
      "\u001b[0;32m/home/sunita/anaconda3/lib/python3.6/site-packages/tensorflow/python/client/session.py\u001b[0m in \u001b[0;36m_do_call\u001b[0;34m(self, fn, *args)\u001b[0m\n\u001b[1;32m   1276\u001b[0m   \u001b[0;32mdef\u001b[0m \u001b[0m_do_call\u001b[0m\u001b[0;34m(\u001b[0m\u001b[0mself\u001b[0m\u001b[0;34m,\u001b[0m \u001b[0mfn\u001b[0m\u001b[0;34m,\u001b[0m \u001b[0;34m*\u001b[0m\u001b[0margs\u001b[0m\u001b[0;34m)\u001b[0m\u001b[0;34m:\u001b[0m\u001b[0;34m\u001b[0m\u001b[0m\n\u001b[1;32m   1277\u001b[0m     \u001b[0;32mtry\u001b[0m\u001b[0;34m:\u001b[0m\u001b[0;34m\u001b[0m\u001b[0m\n\u001b[0;32m-> 1278\u001b[0;31m       \u001b[0;32mreturn\u001b[0m \u001b[0mfn\u001b[0m\u001b[0;34m(\u001b[0m\u001b[0;34m*\u001b[0m\u001b[0margs\u001b[0m\u001b[0;34m)\u001b[0m\u001b[0;34m\u001b[0m\u001b[0m\n\u001b[0m\u001b[1;32m   1279\u001b[0m     \u001b[0;32mexcept\u001b[0m \u001b[0merrors\u001b[0m\u001b[0;34m.\u001b[0m\u001b[0mOpError\u001b[0m \u001b[0;32mas\u001b[0m \u001b[0me\u001b[0m\u001b[0;34m:\u001b[0m\u001b[0;34m\u001b[0m\u001b[0m\n\u001b[1;32m   1280\u001b[0m       \u001b[0mmessage\u001b[0m \u001b[0;34m=\u001b[0m \u001b[0mcompat\u001b[0m\u001b[0;34m.\u001b[0m\u001b[0mas_text\u001b[0m\u001b[0;34m(\u001b[0m\u001b[0me\u001b[0m\u001b[0;34m.\u001b[0m\u001b[0mmessage\u001b[0m\u001b[0;34m)\u001b[0m\u001b[0;34m\u001b[0m\u001b[0m\n",
      "\u001b[0;32m/home/sunita/anaconda3/lib/python3.6/site-packages/tensorflow/python/client/session.py\u001b[0m in \u001b[0;36m_run_fn\u001b[0;34m(feed_dict, fetch_list, target_list, options, run_metadata)\u001b[0m\n\u001b[1;32m   1261\u001b[0m       \u001b[0mself\u001b[0m\u001b[0;34m.\u001b[0m\u001b[0m_extend_graph\u001b[0m\u001b[0;34m(\u001b[0m\u001b[0;34m)\u001b[0m\u001b[0;34m\u001b[0m\u001b[0m\n\u001b[1;32m   1262\u001b[0m       return self._call_tf_sessionrun(\n\u001b[0;32m-> 1263\u001b[0;31m           options, feed_dict, fetch_list, target_list, run_metadata)\n\u001b[0m\u001b[1;32m   1264\u001b[0m \u001b[0;34m\u001b[0m\u001b[0m\n\u001b[1;32m   1265\u001b[0m     \u001b[0;32mdef\u001b[0m \u001b[0m_prun_fn\u001b[0m\u001b[0;34m(\u001b[0m\u001b[0mhandle\u001b[0m\u001b[0;34m,\u001b[0m \u001b[0mfeed_dict\u001b[0m\u001b[0;34m,\u001b[0m \u001b[0mfetch_list\u001b[0m\u001b[0;34m)\u001b[0m\u001b[0;34m:\u001b[0m\u001b[0;34m\u001b[0m\u001b[0m\n",
      "\u001b[0;32m/home/sunita/anaconda3/lib/python3.6/site-packages/tensorflow/python/client/session.py\u001b[0m in \u001b[0;36m_call_tf_sessionrun\u001b[0;34m(self, options, feed_dict, fetch_list, target_list, run_metadata)\u001b[0m\n\u001b[1;32m   1348\u001b[0m     return tf_session.TF_SessionRun_wrapper(\n\u001b[1;32m   1349\u001b[0m         \u001b[0mself\u001b[0m\u001b[0;34m.\u001b[0m\u001b[0m_session\u001b[0m\u001b[0;34m,\u001b[0m \u001b[0moptions\u001b[0m\u001b[0;34m,\u001b[0m \u001b[0mfeed_dict\u001b[0m\u001b[0;34m,\u001b[0m \u001b[0mfetch_list\u001b[0m\u001b[0;34m,\u001b[0m \u001b[0mtarget_list\u001b[0m\u001b[0;34m,\u001b[0m\u001b[0;34m\u001b[0m\u001b[0m\n\u001b[0;32m-> 1350\u001b[0;31m         run_metadata)\n\u001b[0m\u001b[1;32m   1351\u001b[0m \u001b[0;34m\u001b[0m\u001b[0m\n\u001b[1;32m   1352\u001b[0m   \u001b[0;32mdef\u001b[0m \u001b[0m_call_tf_sessionprun\u001b[0m\u001b[0;34m(\u001b[0m\u001b[0mself\u001b[0m\u001b[0;34m,\u001b[0m \u001b[0mhandle\u001b[0m\u001b[0;34m,\u001b[0m \u001b[0mfeed_dict\u001b[0m\u001b[0;34m,\u001b[0m \u001b[0mfetch_list\u001b[0m\u001b[0;34m)\u001b[0m\u001b[0;34m:\u001b[0m\u001b[0;34m\u001b[0m\u001b[0m\n",
      "\u001b[0;31mKeyboardInterrupt\u001b[0m: "
     ]
    }
   ],
   "source": [
    "#added 2\n",
    "r42d = []\n",
    "r42t = []\n",
    "\n",
    "\n",
    "a = 0.80\n",
    "\n",
    "ua = np.repeat(a, len(LF_l))\n",
    "\n",
    "stdout_saved = orig_stdout\n",
    "# for rx in [1, len(LF_l), len(train_L_S)]:\n",
    "# for i in np.linspace(1,1,1):\n",
    "b = 32\n",
    "for pen_i in [131]: # [101,102,103,104,105,106,111,112,113,114,115,116]:#[0, 4, 42]:\n",
    "# for b in [32]:#[32,64,128,512,1024,2048,4096]:\n",
    "    devmax = np.zeros(3)\n",
    "    testmax = np.zeros(3)\n",
    "    for gg in range(1):#[1]:#np.linspace(0,100,101):#, 10, 30, 50, 100]:\n",
    "#         print(\"batch-size:\",b, \"gamma:\",gg)\n",
    "        print('============', pen_i)\n",
    "        sys.stdout = open('trash', 'w')\n",
    "#        sys.stdout = stdout_saved\n",
    "        _, _, _, ops = train2(1/len(train_L_S),200,batch_size = b, th = tf.truncated_normal_initializer(1,0,seed),\\\n",
    "                                    af = tf.truncated_normal_initializer(0,0.1,seed),\\\n",
    "                                    user_a = ua, \\\n",
    "                                    LF_acc = np.repeat(0.4, len(LF_l)) ,pcl=np.array([-1,1],dtype=np.float64),\\\n",
    "                                    norm=True,smooth=True,penalty=pen_i, Gamma=gg, debug=False,\\\n",
    "                                    a_pr = np.repeat(0.750, len(LF_l)), \\\n",
    "                                           n_pr = np.repeat(4000, len(LF_l)),\\\n",
    "                                     isdiscrete = dscr, alpha_max=np.repeat(0.9, len(LF_l)),\n",
    "                             r_pr = np.repeat(0.750, len(LF_l)))\n",
    "        sys.stdout = orig_stdout\n",
    "# get_LF_acc(dev_L_S,gold_labels_dev)\n",
    "#                 if(devmax_t[2]>devmax[2]):\n",
    "#         devmax = np.array(devmax_t)\n",
    "#                 if(testmax_t[2]>testmax[2]):\n",
    "#         testmax = np.array(testmax_t)\n",
    "#         r42d.append(devmax)\n",
    "#         r42t.append(testmax)\n",
    "#         print(\"\\n\\nfinal_result_line: \",\"thetas:\",0,0.1,\"batch size\",b,\"penalty\",pen_i,)\n",
    "##        sys.stdout = stdout_saved\n",
    "#         print(\"\\n\\nfinal_result_line: \",\"thetas:\",0,0.1,\"batch size\",b,\"penalty\",pen_i,)\n",
    "# sys.stdout = open('opfile2', 'a')\n",
    "# print('rate = 1/train_len')      \n",
    "# sys.stdout = stdout_saved"
   ]
  },
  {
   "cell_type": "markdown",
   "metadata": {
    "collapsed": true
   },
   "source": [
    "1,0.43006263048,0.762761400857,0.498327759197,0.818907060231\n",
    "[ 0.11754463 -0.18578547  0.06448096  0.05554933  0.10637787  0.04133855\n",
    "  0.22405651 -0.02316195  0.09187082  0.01032644] [[ 0.94514111  0.94514112  0.94514827  0.94514484  0.94514112  1.05462089\n",
    "   0.9452137   1.05444394  1.05452913  1.05446836]]\n",
    "   \n",
    "   Cont: 111\n",
    "   10,0.407002188184,0.746422776518,0.483636363636,0.80223891622\n",
    "[ 0.11754463 -0.18578547  0.1191033   0.11100223  0.10637787  0.04133855\n",
    "  0.26315504 -0.05675751  0.04734599 -0.02641954] [[ 0.90034616  0.90035037  0.89118076  0.89039836  0.90035211  1.12112825\n",
    "   0.90581917  1.08926482  1.09932218  1.09215784]]\n",
    "   \n",
    "   Cont: 112\n",
    "   9,0.296052631579,0.685242630385,0.375,0.737930092039\n",
    "[ 0.11754463 -0.18578547  0.16593194  0.15628545  0.10637787  0.04133855\n",
    "  0.32336718 -0.11055429 -0.00683302 -0.08423155] [[ 0.84517908  0.84518043  0.85065344  0.85047745  0.84518095  1.16100097\n",
    "   0.85390063  1.16385916  1.16524347  1.16419562]]\n",
    "\n",
    "    Cont: 112 with max_alpha = 0.7\n",
    "    140,0.414587332054,0.780391030486,0.481300813008,0.830555924892\n",
    "[ 1.11754463  0.81421453  1.00955965  1.00062431  1.10637787  1.04133855\n",
    "  1.169206    1.03120785  1.14633471  1.0647233 ] [[ 0.2137293   0.22307502  4.16844262  3.91339975  0.23617798  1.17968475\n",
    "   0.48896712  2.30967195  2.14310226 -0.46482738]]\n",
    "   \n",
    "   Discrete: 111\n",
    "   10,0.428274428274,0.777492567397,0.49569707401,0.819183139062\n",
    "[ 0.11754463 -0.18578547  0.00955965  0.00062431  0.10637787  0.04133855\n",
    "  0.169206    0.03120785  0.14633471  0.0647233 ] [[ 0.82293943  0.82294084  0.82296135  0.82295826  0.82294152  1.18440805\n",
    "   0.82293851  1.18439077  1.18438875  1.18437385]]\n",
    "   \n",
    "   Discrete: 112\n",
    "   10,0.428274428274,0.777492567397,0.49569707401,0.819183139062\n",
    "[ 0.11754463 -0.18578547  0.00955965  0.00062431  0.10637787  0.04133855\n",
    "  0.169206    0.03120785  0.14633471  0.0647233 ] [[ 0.82293943  0.82294084  0.82296135  0.82295826  0.82294152  1.18440805\n",
    "   0.82293851  1.18439077  1.18438875  1.18437385]]"
   ]
  }
 ],
 "metadata": {
  "kernelspec": {
   "display_name": "Python 3",
   "language": "python",
   "name": "python3"
  },
  "language_info": {
   "codemirror_mode": {
    "name": "ipython",
    "version": 3
   },
   "file_extension": ".py",
   "mimetype": "text/x-python",
   "name": "python",
   "nbconvert_exporter": "python",
   "pygments_lexer": "ipython3",
   "version": "3.6.1"
  }
 },
 "nbformat": 4,
 "nbformat_minor": 2
}
